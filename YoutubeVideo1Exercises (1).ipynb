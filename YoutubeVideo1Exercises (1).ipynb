{
  "nbformat": 4,
  "nbformat_minor": 0,
  "metadata": {
    "colab": {
      "name": "YoutubeVideo1Exercises.ipynb",
      "provenance": []
    },
    "kernelspec": {
      "name": "python3",
      "display_name": "Python 3"
    },
    "language_info": {
      "name": "python"
    }
  },
  "cells": [
    {
      "cell_type": "markdown",
      "metadata": {
        "id": "ICpAbIUoilCd"
      },
      "source": [
        "![DSL_logo](https://github.com/BrockDSL/Intro_to_Python_Workshop/blob/master/dsl_logo.png?raw=1) \n",
        " \n",
        "\n",
        "![PythonPsycology](http://www.pygaze.org/wp-content/uploads/2016/10/Dalmaijer_2016_PEP-1024x356.jpg) \n",
        "\n",
        "  \n",
        "\n",
        "Welcome to the Digital Scholarship Lab introduction to Python class. By the end of today we'll know all about the following; \n",
        "\n",
        "- variables \n",
        "\n",
        "- math \n",
        "\n",
        "- conditional \n",
        "\n",
        "- loops \n",
        "\n",
        "- functions \n",
        "\n",
        " \n",
        "\n",
        "  \n",
        "The purpose of this workbook is to allow self-teaching of Python, using MBTI 16 Personalities as applied examples. Please watch the Youtube video at the beginning of each section, then rewrite the code from the video in the code cell below it \n",
        "\n",
        "Be sure to enable line numbers by looking for the 'gear' icon and checking the box in the 'Editor' panel. \n",
        "\n",
        "## MBTI Myers and Briggs 16 Personality Types and Carl Jung's 8 Cognitive Functions \n",
        "\n",
        "\n",
        "![CognitiveFunctions](https://i.pinimg.com/originals/5e/51/a6/5e51a64b31ebb3d45b1128b4b7a8ccf9.png) \n",
        "\n",
        "https://www.truity.com/test/type-finder-personality-test-new \n",
        "  \n",
        " \n",
        "\n",
        "## Python via Jupyter \n",
        "\n",
        "\n",
        "- Jupyter notebooks allow us to have code in a webpage \n",
        "\n",
        "- We'll use Python version 3! Honestly you shouldn't be using Python 2.X any longer \n",
        "\n",
        "- Each bit of code is in a 'cell'. We hit the play button to run each cell \n",
        "\n",
        "- Try it with the next cell. \n",
        "\n",
        "#Which Myers and Briggs (MBTI) type are you? \n",
        "\n",
        "![image.png](https://blog.trginternational.com/hs-fs/hubfs/images/MyersBriggsTypes.png?width=711&name=MyersBriggsTypes.png)"
      ]
    },
    {
      "cell_type": "markdown",
      "metadata": {
        "id": "n2hSTjXsj-dC"
      },
      "source": [
        "# Watch the introduction video below \n",
        "\n",
        "You do not need to click the links that say 'show code'! To watch the videos, click right on the video"
      ]
    },
    {
      "cell_type": "code",
      "metadata": {
        "colab": {
          "base_uri": "https://localhost:8080/",
          "height": 325
        },
        "id": "k5KlfzXOqm1c",
        "cellView": "form",
        "outputId": "dcfb4014-b330-43ba-faff-26a8e573cab9"
      },
      "source": [
        "#Do not touch this code! whatch the video below\n",
        "#@title\n",
        "%%html \n",
        "<iframe src=\"https://www.youtube.com//embed/C6rdLS9Zvns\" width=\"400\" height=\"300\"></iframe>"
      ],
      "execution_count": null,
      "outputs": [
        {
          "output_type": "display_data",
          "data": {
            "text/html": [
              "<iframe src=\"https://www.youtube.com//embed/C6rdLS9Zvns\" width=\"400\" height=\"300\"></iframe>"
            ],
            "text/plain": [
              "<IPython.core.display.HTML object>"
            ]
          },
          "metadata": {}
        }
      ]
    },
    {
      "cell_type": "markdown",
      "metadata": {
        "id": "dktNthQNjMy5"
      },
      "source": [
        "##Examples of Variables using MBTI 16 personalities\n",
        "\n"
      ]
    },
    {
      "cell_type": "code",
      "metadata": {
        "colab": {
          "base_uri": "https://localhost:8080/",
          "height": 325
        },
        "id": "qTRSKvHUqz58",
        "cellView": "form",
        "outputId": "c6d61b3f-05ce-4347-b703-06e0374146c2"
      },
      "source": [
        "#Do not touch this code! Click on the video below to watch, then finish the code in the next cell\n",
        "#@title\n",
        "%%html \n",
        "<iframe src=\"https://www.youtube.com//embed/0HJXQT3dAsA\" width=\"400\" height=\"300\"></iframe>"
      ],
      "execution_count": null,
      "outputs": [
        {
          "output_type": "display_data",
          "data": {
            "text/html": [
              "<iframe src=\"https://www.youtube.com//embed/0HJXQT3dAsA\" width=\"400\" height=\"300\"></iframe>"
            ],
            "text/plain": [
              "<IPython.core.display.HTML object>"
            ]
          },
          "metadata": {}
        }
      ]
    },
    {
      "cell_type": "markdown",
      "metadata": {
        "id": "72Hyn1QFxqWj"
      },
      "source": [
        "Q1 Underneath each comment, write the code from the corresponding line in the video. When done, hit the play button to run the cell. Hit enter after completing the input prompts."
      ]
    },
    {
      "cell_type": "code",
      "metadata": {
        "id": "zpLls-eWhdPn"
      },
      "source": [
        "#Example variable 1 - insert a string value within quotation marks\n",
        "mbt_type_I_think_you_are =\n",
        "\n",
        "#Example variable 2 - Replace 'TypeAQuestion' with \"What is your type? \"\n",
        "mbti_type_you_think_you_are = input(\"TypeAQuestion\")\n",
        "\n",
        "#Example variable 3 - List\n",
        "mbti_types = [\"isfp\", \"istp\", \"infp\", \"infj\", \"intj\", \"intp\", \"entp\", \"esfj\", \"isfj\", \"estj\", \"estp\", \"istj\", \"entj\", \"enfp\", \"entj\", \"enfj\"]\n",
        "\n",
        "#Example variable 4 - Integer\n",
        "number_of_mbti = 16\n",
        "\n",
        "#Example variable 4 - Real number\n",
        "infj_prevalence_decimal_value = 0.02"
      ],
      "execution_count": null,
      "outputs": []
    },
    {
      "cell_type": "markdown",
      "metadata": {
        "id": "7NBf4iXlkwpu"
      },
      "source": [
        "##Examples of using a pre-made function: print()\n",
        "\n",
        "You just saw that the variable with the input function within it printed to the screen, but the other variables did not print to the screen.\n",
        "\n",
        "You can print those other variables to the screen using the print function.\n",
        "\n"
      ]
    },
    {
      "cell_type": "code",
      "metadata": {
        "colab": {
          "base_uri": "https://localhost:8080/",
          "height": 325
        },
        "id": "26WuZWRKrfys",
        "cellView": "form",
        "outputId": "a9db1f4a-504f-42b6-d2ab-8d5007dadc4a"
      },
      "source": [
        "#@title\n",
        "%%html \n",
        "<iframe src=\"https://www.youtube.com//embed/Ncrb-pTx7U0\" width=\"400\" height=\"300\"></iframe>"
      ],
      "execution_count": null,
      "outputs": [
        {
          "output_type": "display_data",
          "data": {
            "text/html": [
              "<iframe src=\"https://www.youtube.com//embed/Ncrb-pTx7U0\" width=\"400\" height=\"300\"></iframe>"
            ],
            "text/plain": [
              "<IPython.core.display.HTML object>"
            ]
          },
          "metadata": {}
        }
      ]
    },
    {
      "cell_type": "markdown",
      "metadata": {
        "id": "oCkvXTJmxmW8"
      },
      "source": [
        "Q2 Fill in the corresponding code from the video"
      ]
    },
    {
      "cell_type": "code",
      "metadata": {
        "id": "4yCVsTiqkxUd"
      },
      "source": [
        "#Example of the print function - print your mbti type using the variable name in which it is stored\n",
        "print()\n",
        "\n",
        "#Example of the print function 2 - Finish the sentence by inserting your same mbti variable as you entered above, between the two plus \"+\" signs\n",
        "print(\"Hello \"+  + \"!\")\n",
        "\n",
        "#Example of the print function 3 - when you're variable contains a number, you join it to tstrings using commas instead of \"+\"\n",
        "print(\"There are\" ,  ,\" personalities\")"
      ],
      "execution_count": null,
      "outputs": []
    },
    {
      "cell_type": "markdown",
      "metadata": {
        "id": "TUQtI4lmkx6u"
      },
      "source": [
        "##Brief Examples of Conditionals\n",
        "\n",
        "Now is an appropriate time to learn how you can print a message to the screen based on what input you entered for the variable.\n",
        "\n",
        "We will talk more about conditionals later"
      ]
    },
    {
      "cell_type": "code",
      "metadata": {
        "colab": {
          "base_uri": "https://localhost:8080/",
          "height": 325
        },
        "id": "ZT6dRhQfsLYX",
        "cellView": "form",
        "outputId": "57f455ae-2e89-4211-d97a-2bc78235c6da"
      },
      "source": [
        "#@title\n",
        "%%html \n",
        "<iframe src=\"https://www.youtube.com//embed/H3xi57JMoyM\" width=\"400\" height=\"300\"></iframe>"
      ],
      "execution_count": null,
      "outputs": [
        {
          "output_type": "display_data",
          "data": {
            "text/html": [
              "<iframe src=\"https://www.youtube.com//embed/H3xi57JMoyM\" width=\"400\" height=\"300\"></iframe>"
            ],
            "text/plain": [
              "<IPython.core.display.HTML object>"
            ]
          },
          "metadata": {}
        }
      ]
    },
    {
      "cell_type": "markdown",
      "metadata": {
        "id": "7FROmMsNxfbb"
      },
      "source": [
        "Q3 Complete the conditional statement using the above video for answers"
      ]
    },
    {
      "cell_type": "code",
      "metadata": {
        "id": "aqG41Ftvkygp"
      },
      "source": [
        "if == \"estj\" and == \"estj\":\n",
        "  print(\"I guessed your type right\")\n",
        "else:\n",
        "  print(\"I guessed your type wrong\")"
      ],
      "execution_count": null,
      "outputs": []
    },
    {
      "cell_type": "markdown",
      "metadata": {
        "id": "qJE7EAZ1k1h0"
      },
      "source": [
        "###Review of List variable, and intro dictionary variable\n",
        "\n",
        "Below you can review what a list variable looks like, and compare it to a dictionary variable. \n",
        "\n",
        "Basically, a dictionary is a list, but with corresponding variables alongside each item.\n",
        "\n",
        "While lists use square brackets \"[ ]\", dictionaries use squiggly brackets \"{ }\"\n",
        "\n"
      ]
    },
    {
      "cell_type": "code",
      "metadata": {
        "colab": {
          "base_uri": "https://localhost:8080/",
          "height": 325
        },
        "id": "R2RlG3qHsw5U",
        "cellView": "form",
        "outputId": "fb45c1f1-9233-43f0-a696-21d277b0326f"
      },
      "source": [
        "#@title\n",
        "%%html \n",
        "<iframe src=\"https://www.youtube.com//embed/5jiLE9CPgbs\" width=\"400\" height=\"300\"></iframe>"
      ],
      "execution_count": null,
      "outputs": [
        {
          "output_type": "display_data",
          "data": {
            "text/html": [
              "<iframe src=\"https://www.youtube.com//embed/5jiLE9CPgbs\" width=\"400\" height=\"300\"></iframe>"
            ],
            "text/plain": [
              "<IPython.core.display.HTML object>"
            ]
          },
          "metadata": {}
        }
      ]
    },
    {
      "cell_type": "markdown",
      "metadata": {
        "id": "vF5R8rj7xaCj"
      },
      "source": [
        "Q4 Examine the corresponding code from the video"
      ]
    },
    {
      "cell_type": "code",
      "metadata": {
        "id": "5Z5IQfrck2fi"
      },
      "source": [
        "#Review of what a list variable looks like\n",
        "mbti_types = [\"isfp\", \"istp\", \"infp\", \"infj\", \"intj\", \"intp\", \"entp\", \"esfj\", \"isfj\", \"estj\", \"estp\", \"istj\", \"entj\", \"enfp\", \"entj\", \"enfj\"]\n",
        "\n",
        "#Now, an example of what a dictionary variable looks like\n",
        "mbti_descriptions = {\"isfp\":\"fi, se, ni, te\",\n",
        "                     \"istp\":\"ti, se, ni, fe\",\n",
        "                     \"infp\":\"fi, ne, si, te\",\n",
        "                     \"infj\":\"ni, fe, ti, se\",\n",
        "                     \"intj\":\"ni, te, fi, se\",\n",
        "                     \"intp\":\"ti, ne, si, fe\",\n",
        "                     \"entp\":\"ne, ti, fe, si\",\n",
        "                     \"esfj\":\"fe, si, ne, ti\",\n",
        "                     \"isfj\":\"si, fe, ti, ne\",\n",
        "                     \"estj\":\"te, si, ne, fi\",\n",
        "                     \"estp\":\"se, ti, fe, ni\",\n",
        "                     \"entj\":\"te, ni, se, fi\",\n",
        "                     \"enfj\":\"fe, ni, se, ti\",\n",
        "                     \"esfp\":\"se, fi, te, ni\",\n",
        "                     \"enfp\":\"ne, fi, te, si\",\n",
        "                     \"istj\":\"si, te, fi, ne\"\n",
        "}\n",
        "#A second useful example of a dictionary\n",
        "mbti_percentage_population = {\"isfp\": 9,\n",
        "                     \"istp\": 5,\n",
        "                     \"infp\": 4,\n",
        "                     \"infj\": 2,\n",
        "                     \"intj\": 2,\n",
        "                     \"intp\": 3,\n",
        "                     \"entp\": 3,\n",
        "                     \"esfj\": 12,\n",
        "                     \"isfj\": 14,\n",
        "                     \"estj\": 9,\n",
        "                     \"estp\": 4,\n",
        "                     \"entj\": 2,\n",
        "                     \"enfj\": 3,\n",
        "                     \"esfp\": 9,\n",
        "                     \"enfp\": 8,\n",
        "                     \"istj\": 12\n",
        "}\n",
        "#Remeber the closing squiggly bracket that should be in line 39!"
      ],
      "execution_count": null,
      "outputs": []
    },
    {
      "cell_type": "markdown",
      "metadata": {
        "id": "xv1drCjKk5aU"
      },
      "source": [
        "- We can print a dictionary in a very similar way to other variables like we saw earlier, as shown in the video below.\n",
        "\n"
      ]
    },
    {
      "cell_type": "code",
      "metadata": {
        "colab": {
          "base_uri": "https://localhost:8080/",
          "height": 325
        },
        "id": "Xsfy1ZI0tIU5",
        "cellView": "form",
        "outputId": "1b5fafad-6fcc-4493-bee3-7a54c301bf8f"
      },
      "source": [
        "#@title\n",
        "%%html \n",
        "<iframe src=\"https://www.youtube.com//embed/5B-izV8Ghkw\" width=\"400\" height=\"300\"></iframe>"
      ],
      "execution_count": null,
      "outputs": [
        {
          "output_type": "display_data",
          "data": {
            "text/html": [
              "<iframe src=\"https://www.youtube.com//embed/5B-izV8Ghkw\" width=\"400\" height=\"300\"></iframe>"
            ],
            "text/plain": [
              "<IPython.core.display.HTML object>"
            ]
          },
          "metadata": {}
        }
      ]
    },
    {
      "cell_type": "markdown",
      "metadata": {
        "id": "Hs5ZGq-oxT-8"
      },
      "source": [
        "Q5 Write the corresponding code from the video. Print the mbti_descriptions dictionary to the screen"
      ]
    },
    {
      "cell_type": "code",
      "metadata": {
        "id": "EIbiadlqk6Cy"
      },
      "source": [
        "print()"
      ],
      "execution_count": null,
      "outputs": []
    },
    {
      "cell_type": "markdown",
      "metadata": {
        "id": "Ywc3aa9nm11b"
      },
      "source": [
        "- You can do some interesting things with dictionaries, (we'll see more as time goes on)\n",
        "- For example you can print out different parts of the dictionary by adding in a key\n",
        "\n",
        "Q6 Write the corresponding codes from the video above. Print the isfp description to the screen."
      ]
    },
    {
      "cell_type": "code",
      "metadata": {
        "id": "e3PncOTRm9pP"
      },
      "source": [
        "print(mbti_descriptions[\"\"])"
      ],
      "execution_count": null,
      "outputs": []
    },
    {
      "cell_type": "markdown",
      "metadata": {
        "id": "Qz1nn79ux7eE"
      },
      "source": [
        "Print the mbti percentage dictionary to the screen"
      ]
    },
    {
      "cell_type": "code",
      "metadata": {
        "id": "FJ2c7tBHnA_J"
      },
      "source": [
        "print()"
      ],
      "execution_count": null,
      "outputs": []
    },
    {
      "cell_type": "markdown",
      "metadata": {
        "id": "g790S7f4yjJd"
      },
      "source": [
        "Print the isfp's percentage within the population in the same way you did using the mbti_description variable"
      ]
    },
    {
      "cell_type": "code",
      "metadata": {
        "id": "2OIoTAsynAon"
      },
      "source": [
        "print()"
      ],
      "execution_count": null,
      "outputs": []
    },
    {
      "cell_type": "markdown",
      "metadata": {
        "id": "EHrb7VaynB33"
      },
      "source": [
        "##Doing Math in Python\n",
        "\n"
      ]
    },
    {
      "cell_type": "code",
      "metadata": {
        "colab": {
          "base_uri": "https://localhost:8080/",
          "height": 325
        },
        "id": "x5M2QkTxtgtC",
        "cellView": "form",
        "outputId": "31ae008b-b2b0-41c5-c383-0208e6e43282"
      },
      "source": [
        "#@title\n",
        "%%html \n",
        "<iframe src=\"https://www.youtube.com//embed/FNweCCPXH1U\" width=\"400\" height=\"300\"></iframe>"
      ],
      "execution_count": null,
      "outputs": [
        {
          "output_type": "display_data",
          "data": {
            "text/html": [
              "<iframe src=\"https://www.youtube.com//embed/FNweCCPXH1U\" width=\"400\" height=\"300\"></iframe>"
            ],
            "text/plain": [
              "<IPython.core.display.HTML object>"
            ]
          },
          "metadata": {}
        }
      ]
    },
    {
      "cell_type": "markdown",
      "metadata": {
        "id": "rIRVaz7xxNhE"
      },
      "source": [
        "Q7 Complete the corresponding code using the video above"
      ]
    },
    {
      "cell_type": "code",
      "metadata": {
        "id": "iA2aKD_SnN63"
      },
      "source": [
        "#Let's find the total percentage of sensors and intuitives in the population\n",
        "intuitives = mbti_percentage_population[\"infp\"] + \\\n",
        "                    mbti_percentage_population[\"infj\"] + \\\n",
        "                    mbti_percentage_population[\"entj\"] + \\\n",
        "                    mbti_percentage_population[\"intj\"] + \\\n",
        "                    mbti_percentage_population[\"enfj\"] + \\\n",
        "                    mbti_percentage_population[\"enfp\"] + \\\n",
        "                    mbti_percentage_population[\"entp\"] + \\\n",
        "                    mbti_percentage_population[\"intp\"]\n",
        "\n",
        "print(\"intuitives:\")\n",
        "print(intuitives)\n",
        "\n",
        "sensors = 100 - ChangeMe\n",
        "\n",
        "print(\"sensors:\")\n",
        "print(sensors)\n",
        "print()\n",
        "#Let's find the total percentage of judgers (J) and Perceivers (P) in the population. Add in the rest of the addition and slash symbols\n",
        "judgers = mbti_percentage_population[\"isfj\"] + \\ \n",
        "                  mbti_percentage_population[\"infj\"] + \\\n",
        "                  mbti_percentage_population[\"entj\"]\n",
        "                  mbti_percentage_population[\"intj\"]\n",
        "                  mbti_percentage_population[\"enfj\"]\n",
        "                  mbti_percentage_population[\"esfj\"]\n",
        "                  mbti_percentage_population[\"estj\"]\n",
        "                  mbti_percentage_population[\"istj\"]\n",
        "\n",
        "print(\"judgers: \")\n",
        "print(judgers)\n",
        "\n",
        "perceivers = 100 - ChangeMe\n",
        "\n",
        "print(\"perceivers:\")\n",
        "print(perceivers)"
      ],
      "execution_count": null,
      "outputs": []
    },
    {
      "cell_type": "code",
      "metadata": {
        "id": "DqFUjbRsnqYL"
      },
      "source": [
        "#Example of using the division symbol: the average percentage of a sensor and intuitive found in the population\n",
        "avgintuitive = intuitives / \n",
        "print()\n",
        "avgsensor = sensors / \n",
        "print()\n",
        "\n",
        "#Turning them back into their total percentage of the population, using multiplication\n",
        "print() #This is just to create a space between line 5 and 9\n",
        "print(avgintuitive * )\n",
        "print(avgsensor * 8)"
      ],
      "execution_count": null,
      "outputs": []
    },
    {
      "cell_type": "markdown",
      "metadata": {
        "id": "3DFvYzbqoGlU"
      },
      "source": [
        "##Printing items to the screen using Loops\n",
        "\n"
      ]
    },
    {
      "cell_type": "code",
      "metadata": {
        "colab": {
          "base_uri": "https://localhost:8080/",
          "height": 325
        },
        "id": "IE2Q88AruDRF",
        "cellView": "form",
        "outputId": "573783f5-ff9f-4dec-9748-fa75b957ce6c"
      },
      "source": [
        "#@title\n",
        "%%html \n",
        "<iframe src=\"https://www.youtube.com//embed/qLEnR81ctFY\" width=\"400\" height=\"300\"></iframe>"
      ],
      "execution_count": null,
      "outputs": [
        {
          "output_type": "display_data",
          "data": {
            "text/html": [
              "<iframe src=\"https://www.youtube.com//embed/qLEnR81ctFY\" width=\"400\" height=\"300\"></iframe>"
            ],
            "text/plain": [
              "<IPython.core.display.HTML object>"
            ]
          },
          "metadata": {}
        }
      ]
    },
    {
      "cell_type": "markdown",
      "metadata": {
        "id": "aa3QZZ1qxGJi"
      },
      "source": [
        "Q8 Write the corresponding code from the video"
      ]
    },
    {
      "cell_type": "code",
      "metadata": {
        "id": "7tEho49bopy2"
      },
      "source": [
        "#Review of one way to print out the contents a list\n",
        "mbti_types = [\"isfp\", \"istp\", \"infp\", \"infj\", \"intj\", \"intp\", \"entp\", \"esfj\", \"isfj\", \"estj\", \"estp\", \"istj\", \"entj\", \"enfp\", \"entj\", \"enfj\"]\n",
        "\n",
        "print(mbti_types)\n",
        "#Create a space between the two versions using an empty print function\n",
        "print()\n",
        "#What happens when you print the contents of a list using a loop\n",
        "for personality in :\n",
        "  print(personality)"
      ],
      "execution_count": null,
      "outputs": []
    },
    {
      "cell_type": "markdown",
      "metadata": {
        "id": "XG9-6MAapHgO"
      },
      "source": [
        "##Counting items in a list using loops\n",
        "\n"
      ]
    },
    {
      "cell_type": "code",
      "metadata": {
        "colab": {
          "base_uri": "https://localhost:8080/",
          "height": 325
        },
        "id": "6cl-szJ5ukjE",
        "cellView": "form",
        "outputId": "fcdd07b6-2a76-4fa1-e486-cb96eb9966c6"
      },
      "source": [
        "#@title\n",
        "%%html \n",
        "<iframe src=\"https://www.youtube.com//embed/qz_EH01tM_E\" width=\"400\" height=\"300\"></iframe>"
      ],
      "execution_count": null,
      "outputs": [
        {
          "output_type": "display_data",
          "data": {
            "text/html": [
              "<iframe src=\"https://www.youtube.com//embed/qz_EH01tM_E\" width=\"400\" height=\"300\"></iframe>"
            ],
            "text/plain": [
              "<IPython.core.display.HTML object>"
            ]
          },
          "metadata": {}
        }
      ]
    },
    {
      "cell_type": "markdown",
      "metadata": {
        "id": "cKWhPOcqxAXq"
      },
      "source": [
        "Q9 Write the corresponding code from the video"
      ]
    },
    {
      "cell_type": "code",
      "metadata": {
        "id": "ei_KjIEApNtd"
      },
      "source": [
        "intuitives = [\"infp\", \"infj\", \"entj\", \"intj\", \"enfj\", \"enfp\", \"entp\", \"intp\"]\n",
        "\n",
        "total_intuitives =\n",
        "\n",
        "for personality in :\n",
        "  total_intuitives = + 1\n",
        "\n",
        "\n",
        "print(\"Total Intuitives: \", total_intuitives)"
      ],
      "execution_count": null,
      "outputs": []
    },
    {
      "cell_type": "markdown",
      "metadata": {
        "id": "BQ24lILqph3w"
      },
      "source": [
        "### Dictionaries and Loops\n",
        "\n",
        "- Watch what happens when we try to do a loop through a dictionary\n",
        "\n",
        "Q10 Write the corresponding code from the video"
      ]
    },
    {
      "cell_type": "code",
      "metadata": {
        "id": "VoygpVXMpsa8"
      },
      "source": [
        "for :\n",
        "    print()"
      ],
      "execution_count": null,
      "outputs": []
    },
    {
      "cell_type": "markdown",
      "metadata": {
        "id": "dxQljP-Op5e8"
      },
      "source": [
        "- Since dictionaries are more complex, there are many ways to interact with them\n",
        "- We add .values() to get the values of the dictionary\n",
        "- We add .keys() to get the keys of the dictionary\n",
        "\n",
        "Q11 Write the corresponding code from the video"
      ]
    },
    {
      "cell_type": "code",
      "metadata": {
        "id": "pvS9ieOhqAhD"
      },
      "source": [
        "#print all the items in our Dictionary\n",
        "\n",
        "for :\n",
        "    print()"
      ],
      "execution_count": null,
      "outputs": []
    },
    {
      "cell_type": "code",
      "metadata": {
        "id": "nsOCVjVUqvG6"
      },
      "source": [
        "# print out the keys in our Dictionary\n",
        "\n",
        "for :\n",
        "    print()"
      ],
      "execution_count": null,
      "outputs": []
    },
    {
      "cell_type": "markdown",
      "metadata": {
        "id": "ByZ7Xi7oq__G"
      },
      "source": [
        "## More symbols to use for doing Conditionals\n",
        "\n",
        "- When we want to run a piece of code only if something is true\n",
        "- We can compare with the following:\n",
        "\n",
        "        ==\n",
        "        >=\n",
        "        <=\n",
        "        <\n",
        "        >\n",
        "        !="
      ]
    },
    {
      "cell_type": "code",
      "metadata": {
        "colab": {
          "base_uri": "https://localhost:8080/",
          "height": 325
        },
        "id": "lkZ6WKvdvE8s",
        "cellView": "form",
        "outputId": "2e702951-1535-471f-e519-ec7145da493e"
      },
      "source": [
        "#@title\n",
        "%%html \n",
        "<iframe src=\"https://www.youtube.com//embed/ce02EeFRfRU\" width=\"400\" height=\"300\"></iframe>"
      ],
      "execution_count": null,
      "outputs": [
        {
          "output_type": "display_data",
          "data": {
            "text/html": [
              "<iframe src=\"https://www.youtube.com//embed/ce02EeFRfRU\" width=\"400\" height=\"300\"></iframe>"
            ],
            "text/plain": [
              "<IPython.core.display.HTML object>"
            ]
          },
          "metadata": {}
        }
      ]
    },
    {
      "cell_type": "markdown",
      "metadata": {
        "id": "-SyIlsB5rF7X"
      },
      "source": [
        "- Let's pretend that anything less than 4 percent of the population is rare. Let' make a conditional that prints out if an **intp** is rare\n",
        "\n",
        "Q12 Write the code from the corresponding code in the video"
      ]
    },
    {
      "cell_type": "code",
      "metadata": {
        "id": "2o7dABg4rPlQ"
      },
      "source": [
        "if mbti_percentage_population[] < :\n",
        "\n",
        "  print(\"\")\n",
        "else:\n",
        "  print(\"\")"
      ],
      "execution_count": null,
      "outputs": []
    },
    {
      "cell_type": "markdown",
      "metadata": {
        "id": "SP4HIR1SrggN"
      },
      "source": [
        "## Combining with boolean\n",
        "\n",
        "- Sometimes we want to combine conditionals because we want to test more complicated things\n",
        "- We can do this with the following:\n",
        "    - and\n",
        "    - or\n",
        "    - not\n",
        "- Here's a mini version of the mbti test using the 'and' statement\n",
        "\n"
      ]
    },
    {
      "cell_type": "code",
      "metadata": {
        "colab": {
          "base_uri": "https://localhost:8080/",
          "height": 325
        },
        "id": "g3-31aRuv1yl",
        "cellView": "form",
        "outputId": "68e12aea-5610-4127-e414-92fc721b55ac"
      },
      "source": [
        "#@title\n",
        "%%html \n",
        "<iframe src=\"https://www.youtube.com//embed/WykMPHWquxM\" width=\"400\" height=\"300\"></iframe>"
      ],
      "execution_count": null,
      "outputs": [
        {
          "output_type": "display_data",
          "data": {
            "text/html": [
              "<iframe src=\"https://www.youtube.com//embed/WykMPHWquxM\" width=\"400\" height=\"300\"></iframe>"
            ],
            "text/plain": [
              "<IPython.core.display.HTML object>"
            ]
          },
          "metadata": {}
        }
      ]
    },
    {
      "cell_type": "markdown",
      "metadata": {
        "id": "0BIuLLM-w2MH"
      },
      "source": [
        "Q13 Complete the corresponding code using the video above"
      ]
    },
    {
      "cell_type": "code",
      "metadata": {
        "id": "YdyQgc5Prtzk"
      },
      "source": [
        "Question_1 = input(\"Type a, b, or c, to answer the following question: I try not to draw attention to myself. a-strongly agree, b-neutral, c-strongly disagree\")\n",
        "\n",
        "Question_2 = input(\"Type a, b, or c, to answer the following question: I have a vivid imagination. a-strongly agree, b-neutral, c-strongly disagree\")\n",
        "\n",
        "if Question_1 == and Question_2 == :\n",
        "  print(\"\")\n",
        "  print(\"\")\n",
        "if Question_1 == and Question_2 ==:\n",
        "  print()\n",
        "  print()\n",
        "# There aren't any possibilities for Q1 = a and Q2 = c in this mini test \n",
        "# There aren't any possibilities for Q1 = b and Q2 = b in this mini test\n",
        "if Question_1 == and Question_2 ==:\n",
        "  print()\n",
        "  print()\n",
        "if Question_1 == and Question_2 ==:\n",
        "  print()\n",
        "  print()\n",
        "if Question_1 == and Question_2 ==:\n",
        "  print()\n",
        "  print()\n",
        "if Question_1 == and Question_2 ==:\n",
        "  print()\n",
        "  print()\n",
        "if Question_1 == and Question_2 ==:\n",
        "  print()\n",
        "  print()"
      ],
      "execution_count": null,
      "outputs": []
    },
    {
      "cell_type": "markdown",
      "metadata": {
        "id": "-MxjEcUJtUx1"
      },
      "source": [
        "## Functions\n",
        "\n",
        "- Functions are bits of code that do a certain task in a certain way\n",
        "- We saw this earlier with the print() function\n",
        "- We also just used the int() function in our game\n",
        "- some functions need arguments or paramaters. We pass those in the the round brackets. EG. we pass what string variable we want turned into an integer with the int() function.\n",
        "- we can create our own functions too"
      ]
    },
    {
      "cell_type": "markdown",
      "metadata": {
        "id": "Yzevm3fftceQ"
      },
      "source": [
        "- The function below will change the values to decimals from percentage\n",
        "- Statements can get pretty long if you call lots of functions in them\n",
        "- Here we find the isfp's percentage converted to decimal and print it\n",
        "\n",
        "\n"
      ]
    },
    {
      "cell_type": "code",
      "metadata": {
        "colab": {
          "base_uri": "https://localhost:8080/",
          "height": 325
        },
        "id": "RepmG9yLwItP",
        "cellView": "form",
        "outputId": "afc84d51-a1c9-4304-b383-07f502dd1a6d"
      },
      "source": [
        "#@title\n",
        "%%html \n",
        "<iframe src=\"https://www.youtube.com//embed/uBuSyiOPz9A\" width=\"400\" height=\"300\"></iframe>"
      ],
      "execution_count": null,
      "outputs": [
        {
          "output_type": "display_data",
          "data": {
            "text/html": [
              "<iframe src=\"https://www.youtube.com//embed/uBuSyiOPz9A\" width=\"400\" height=\"300\"></iframe>"
            ],
            "text/plain": [
              "<IPython.core.display.HTML object>"
            ]
          },
          "metadata": {}
        }
      ]
    },
    {
      "cell_type": "markdown",
      "metadata": {
        "id": "rzSnd4NAwvWF"
      },
      "source": [
        "Q14 Write the corresponding code from the video"
      ]
    },
    {
      "cell_type": "code",
      "metadata": {
        "id": "NgoLPNS1ttsZ"
      },
      "source": [
        "def (perc):\n",
        "  return\n",
        "\n",
        "print(perc_to_dec(mbti_percentage_population[\"\"]))"
      ],
      "execution_count": null,
      "outputs": []
    }
  ]
}
