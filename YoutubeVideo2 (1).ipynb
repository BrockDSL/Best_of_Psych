{
  "nbformat": 4,
  "nbformat_minor": 0,
  "metadata": {
    "colab": {
      "name": "YoutubeVideo2.ipynb",
      "provenance": []
    },
    "kernelspec": {
      "name": "python3",
      "display_name": "Python 3"
    },
    "language_info": {
      "name": "python"
    }
  },
  "cells": [
    {
      "cell_type": "code",
      "metadata": {
        "id": "WZcAxGlxU9q4"
      },
      "source": [
        ""
      ],
      "execution_count": null,
      "outputs": []
    },
    {
      "cell_type": "markdown",
      "metadata": {
        "id": "dvXiNvArVJeE"
      },
      "source": [
        "![DSL_logo](https://github.com/BrockDSL/Intro_to_Python_Workshop/blob/master/dsl_logo.png?raw=1) \n",
        " \n",
        "\n",
        "![PythonPsycology](http://www.pygaze.org/wp-content/uploads/2016/10/Dalmaijer_2016_PEP-1024x356.jpg) \n",
        "\n",
        "#Data Science"
      ]
    },
    {
      "cell_type": "code",
      "metadata": {
        "colab": {
          "base_uri": "https://localhost:8080/",
          "height": 325
        },
        "id": "0BnSNHJfxCMW",
        "outputId": "31707637-9876-418f-96a4-5ffcb8a89391"
      },
      "source": [
        "%%html \n",
        "<iframe src=\"https://www.youtube.com//embed/AYp6qf7kOFc\" width=\"400\" height=\"300\"></iframe>"
      ],
      "execution_count": null,
      "outputs": [
        {
          "output_type": "display_data",
          "data": {
            "text/html": [
              "<iframe src=\"https://www.youtube.com//embed/AYp6qf7kOFc\" width=\"400\" height=\"300\"></iframe>"
            ],
            "text/plain": [
              "<IPython.core.display.HTML object>"
            ]
          },
          "metadata": {}
        }
      ]
    },
    {
      "cell_type": "markdown",
      "metadata": {
        "id": "kCwk4GT1VQCq"
      },
      "source": [
        "The `str` library is so important that it is included all the time Python runs.\n",
        "\n",
        "Q1 Fill in the corresponding code from the video"
      ]
    },
    {
      "cell_type": "code",
      "metadata": {
        "id": "Fc3GBctsVdLq"
      },
      "source": [
        "all_caps = \"\"\n",
        "\n",
        "# add .lower() to the following line so that the variable represented by all_caps prints in all lowercase\n",
        "print()\n",
        "# add .title() to the following line to capitalize the first letter of each word, and the rest lowercase\n",
        "print()\n",
        "# add .capitalize() to the following line to capitalize only the first letter of the sentence, and the rest lowercase\n",
        "print()"
      ],
      "execution_count": null,
      "outputs": []
    },
    {
      "cell_type": "markdown",
      "metadata": {
        "id": "gOS-7CkIwfnm"
      },
      "source": [
        "Video for Q1 "
      ]
    },
    {
      "cell_type": "code",
      "metadata": {
        "colab": {
          "base_uri": "https://localhost:8080/",
          "height": 325
        },
        "id": "1G060vJjweoP",
        "outputId": "c86b9add-346e-40bb-d15c-e29462360269"
      },
      "source": [
        "%%html \n",
        "<iframe src=\"https://www.youtube.com//embed/NL1NYNdPBbw\" width=\"400\" height=\"300\"></iframe>"
      ],
      "execution_count": null,
      "outputs": [
        {
          "output_type": "display_data",
          "data": {
            "text/html": [
              "<iframe src=\"https://www.youtube.com//embed/NL1NYNdPBbw\" width=\"400\" height=\"300\"></iframe>"
            ],
            "text/plain": [
              "<IPython.core.display.HTML object>"
            ]
          },
          "metadata": {}
        }
      ]
    },
    {
      "cell_type": "markdown",
      "metadata": {
        "id": "PfWoZjmaVv-A"
      },
      "source": [
        "# EXERCISE: Analyzing scores from a Big 5 Personality Dataset\n",
        "\n",
        "We'll be focusing on data analysis for the rest of this workshop so let's import some libraries: [pandas](https://pandas.pydata.org/) and [numpy](https://pythonistaplanet.com/numpy/)\n",
        "\n",
        "We will be analyzing a dataset composed of about 315 scores of the Big 5 Personality test.\n",
        "\n",
        "You could use Excel to do some of this analysis true, but if you have a large dataset, using Excel is going to be difficult to work with."
      ]
    },
    {
      "cell_type": "code",
      "metadata": {
        "colab": {
          "base_uri": "https://localhost:8080/",
          "height": 325
        },
        "id": "mmo4DNadzvo7",
        "outputId": "2538b0d6-ffde-480d-ec1c-4bec69ce01cc"
      },
      "source": [
        "%%html \n",
        "<iframe src=\"https://www.youtube.com//embed/qKwH-eCrNYY\" width=\"400\" height=\"300\"></iframe>"
      ],
      "execution_count": null,
      "outputs": [
        {
          "output_type": "display_data",
          "data": {
            "text/html": [
              "<iframe src=\"https://www.youtube.com//embed/qKwH-eCrNYY\" width=\"400\" height=\"300\"></iframe>"
            ],
            "text/plain": [
              "<IPython.core.display.HTML object>"
            ]
          },
          "metadata": {}
        }
      ]
    },
    {
      "cell_type": "markdown",
      "metadata": {
        "id": "Krt7nrCYVxjA"
      },
      "source": [
        "![excel preview](https://raw.githubusercontent.com/BrockDSL/BrockPsych_Python_Collaboration_2021/master/psycscreenshot.PNG) \n",
        "\n",
        "\n",
        "There are 315 rows of big 5 personality score data - this is just a sample view\n",
        "\n",
        "The personality dataset has 8 columns \n",
        "\n",
        "-Gender\t\n",
        "-Age\t\n",
        "-Openness\t\n",
        "-Neuroticism\t\n",
        "-Conscientiousness\t\n",
        "-Agreeableness\t\n",
        "-Extraversion\t\n",
        "-Personality\n",
        "\n",
        "The rows represent different people who took the big 5 test\n",
        "\n",
        "The personality column is the one we are interested in, and we want to analyze the data to see how the other columns (I.e. personality traits) are affecting the overall personality.  "
      ]
    },
    {
      "cell_type": "code",
      "metadata": {
        "colab": {
          "base_uri": "https://localhost:8080/",
          "height": 325
        },
        "id": "ZdIpCwOc1Xlq",
        "outputId": "8437e8bd-5f80-429d-ba6a-22efea8cbd0b"
      },
      "source": [
        "%%html \n",
        "<iframe src=\"https://www.youtube.com//embed/XM0DvtfEYwA\" width=\"400\" height=\"300\"></iframe>"
      ],
      "execution_count": null,
      "outputs": [
        {
          "output_type": "display_data",
          "data": {
            "text/html": [
              "<iframe src=\"https://www.youtube.com//embed/XM0DvtfEYwA\" width=\"400\" height=\"300\"></iframe>"
            ],
            "text/plain": [
              "<IPython.core.display.HTML object>"
            ]
          },
          "metadata": {}
        }
      ]
    },
    {
      "cell_type": "markdown",
      "metadata": {
        "id": "ZSgMcQxlV7lt"
      },
      "source": [
        "##Loading the required Python Libraries\n",
        "\n",
        "Q2 Type in the corresponding code from the video"
      ]
    },
    {
      "cell_type": "code",
      "metadata": {
        "id": "kFDJh_-kWG9r"
      },
      "source": [
        "#Load the statistics library\n",
        "\n",
        "\n",
        "#Load the math library\n",
        "\n",
        "\n",
        "#Load the Library Pandas, that works with data\n",
        "\n",
        "\n",
        "#Load the Library Numpy, that works with numerical calculations\n",
        "\n",
        "\n",
        "#These two libraries are often used together!"
      ],
      "execution_count": null,
      "outputs": []
    },
    {
      "cell_type": "markdown",
      "metadata": {
        "id": "92O8lRvSWTcv"
      },
      "source": [
        "###Uploading the csv file from your computer\n",
        "\n",
        "Q3 Type in the corresponding code from the video"
      ]
    },
    {
      "cell_type": "code",
      "metadata": {
        "id": "4bkjFoYHWadn"
      },
      "source": [
        "\n",
        "\n",
        "\n",
        "#pandas is already loaded, so you can skip importing it\n",
        "\n",
        "\n",
        "\n",
        "\n"
      ],
      "execution_count": null,
      "outputs": []
    },
    {
      "cell_type": "markdown",
      "metadata": {
        "id": "Uj0j1rBlWoqs"
      },
      "source": [
        "###Printing the first 10 rows of data to the screen\n",
        "\n",
        "Q4 Type in the corresponding code from the video"
      ]
    },
    {
      "cell_type": "code",
      "metadata": {
        "id": "xM4Cjxq3WuPx"
      },
      "source": [
        "#List the column names so we can use them as variables \n",
        "\n",
        "\n",
        "\n",
        "\n"
      ],
      "execution_count": null,
      "outputs": []
    },
    {
      "cell_type": "markdown",
      "metadata": {
        "id": "Ss7Yq-vMW5QJ"
      },
      "source": [
        "##The describe function\n",
        "\n",
        "Q5 Type in the corresponding code from the video"
      ]
    },
    {
      "cell_type": "code",
      "metadata": {
        "id": "f3_8u8zIW-Jk"
      },
      "source": [
        ""
      ],
      "execution_count": null,
      "outputs": []
    },
    {
      "cell_type": "markdown",
      "metadata": {
        "id": "2nwL4F7a1n6B"
      },
      "source": [
        "Video for the next section"
      ]
    },
    {
      "cell_type": "code",
      "metadata": {
        "colab": {
          "base_uri": "https://localhost:8080/",
          "height": 325
        },
        "id": "jt1EN44V1mKb",
        "outputId": "d5ccd371-e8c2-4aa5-d13a-b5c028c16eca"
      },
      "source": [
        "%%html \n",
        "<iframe src=\"https://www.youtube.com//embed/2J7B7LnS5XQ\" width=\"400\" height=\"300\"></iframe>"
      ],
      "execution_count": null,
      "outputs": [
        {
          "output_type": "display_data",
          "data": {
            "text/html": [
              "<iframe src=\"https://www.youtube.com//embed/2J7B7LnS5XQ\" width=\"400\" height=\"300\"></iframe>"
            ],
            "text/plain": [
              "<IPython.core.display.HTML object>"
            ]
          },
          "metadata": {}
        }
      ]
    },
    {
      "cell_type": "markdown",
      "metadata": {
        "id": "Cn64lpsTXB3c"
      },
      "source": [
        "## Grouping and  Counting\n",
        "\n",
        "- We also need to gather the entries we need by grouping them together with the `.groupby()` function. We can chain these things together to ask very specific questions of the data.\n",
        "- We pass what column we'd like to group the data by\n",
        "- We add `.count()` if we are just interested int the counts and not the dataframe\n",
        "\n",
        "Q6 Type in the corresponding code from the video"
      ]
    },
    {
      "cell_type": "code",
      "metadata": {
        "id": "InXZpNrsXFnU"
      },
      "source": [
        ""
      ],
      "execution_count": null,
      "outputs": []
    },
    {
      "cell_type": "code",
      "metadata": {
        "id": "vlD4u8b-XGHM"
      },
      "source": [
        ""
      ],
      "execution_count": null,
      "outputs": []
    },
    {
      "cell_type": "markdown",
      "metadata": {
        "id": "pEE2kVRWXK_7"
      },
      "source": [
        "Example 2: How many people are female in this dataset?\n",
        "\n",
        "Q7 Type in the corresponding code from the video"
      ]
    },
    {
      "cell_type": "code",
      "metadata": {
        "id": "rTK9VK3NXT4D"
      },
      "source": [
        ""
      ],
      "execution_count": null,
      "outputs": []
    },
    {
      "cell_type": "markdown",
      "metadata": {
        "id": "S_yZpp4SXbtz"
      },
      "source": [
        "Example 3: How many different ages are in the dataset?\n",
        "\n",
        "Q8 Type in the corresponding code from the video"
      ]
    },
    {
      "cell_type": "code",
      "metadata": {
        "id": "5ewlVKMXXk_L"
      },
      "source": [
        ""
      ],
      "execution_count": null,
      "outputs": []
    },
    {
      "cell_type": "code",
      "metadata": {
        "id": "HBiyiTTgXq2C"
      },
      "source": [
        ""
      ],
      "execution_count": null,
      "outputs": []
    },
    {
      "cell_type": "markdown",
      "metadata": {
        "id": "Ug3XJrd9Xvd6"
      },
      "source": [
        "## Grouping and applying functions\n",
        "\n",
        "- If we want to do some math on the data we need to cluster it together a bit. We use `.groupby()` and then apply our mathematical functions to the result\n",
        "- Here we'll use the following 3 functions:\n",
        " - `mean()` finds the arithmetic mean of the data\n",
        " - `max()` finds the largest occurence of data in that column\n",
        " - `min()` finds the smallest occurennce of data in that column\n",
        "\n"
      ]
    },
    {
      "cell_type": "markdown",
      "metadata": {
        "id": "cinTWJmqX8y5"
      },
      "source": [
        "What is the average extroversion score of people with a personality label of 'extroverted'?\n",
        "\n",
        " Q9 Type in the corresponding code from the video"
      ]
    },
    {
      "cell_type": "code",
      "metadata": {
        "id": "UbJWoniQYC3x"
      },
      "source": [
        ""
      ],
      "execution_count": null,
      "outputs": []
    },
    {
      "cell_type": "markdown",
      "metadata": {
        "id": "PZfwscJWYHWZ"
      },
      "source": [
        "What is the average Age of people of each Neuroticism score?\n",
        "\n",
        "Q10 Type in the corresponding code from the video"
      ]
    },
    {
      "cell_type": "code",
      "metadata": {
        "id": "Yybf93G_YPLJ"
      },
      "source": [
        ""
      ],
      "execution_count": null,
      "outputs": []
    },
    {
      "cell_type": "markdown",
      "metadata": {
        "id": "EGNpUvTv4_ES"
      },
      "source": [
        "Video for next section"
      ]
    },
    {
      "cell_type": "code",
      "metadata": {
        "colab": {
          "base_uri": "https://localhost:8080/",
          "height": 325
        },
        "id": "meIEHoPM5CSh",
        "outputId": "2a1ac736-0c52-44ee-8928-ec6c999e7a36"
      },
      "source": [
        "%%html \n",
        "<iframe src=\"https://www.youtube.com//embed/XDYm910Es4Y\" width=\"400\" height=\"300\"></iframe>"
      ],
      "execution_count": null,
      "outputs": [
        {
          "output_type": "display_data",
          "data": {
            "text/html": [
              "<iframe src=\"https://www.youtube.com//embed/XDYm910Es4Y\" width=\"400\" height=\"300\"></iframe>"
            ],
            "text/plain": [
              "<IPython.core.display.HTML object>"
            ]
          },
          "metadata": {}
        }
      ]
    },
    {
      "cell_type": "markdown",
      "metadata": {
        "id": "Q6FOzd0xYTHI"
      },
      "source": [
        "# Sorting & Multi line commands "
      ]
    },
    {
      "cell_type": "markdown",
      "metadata": {
        "id": "p_LQ0IdnYZUY"
      },
      "source": [
        "- We can apply sorting to our dataframe actions by using the funciton `.sort_values()` \n",
        "\n",
        "- We need to give what column we'd like to sort it with `by =` \n",
        "\n",
        "- We also need to tell it to display it in an increase way `ascending = False`"
      ]
    },
    {
      "cell_type": "markdown",
      "metadata": {
        "id": "kBVaFzIsYeHo"
      },
      "source": [
        "What Agreeableness score has the most people assigned to it? Here we do it in two steps\n",
        "\n",
        "Q11 Type in the corresponding code from th video"
      ]
    },
    {
      "cell_type": "code",
      "metadata": {
        "id": "LFBK1GSAYjdS"
      },
      "source": [
        "\n",
        "\n",
        "\n",
        "\n"
      ],
      "execution_count": null,
      "outputs": []
    },
    {
      "cell_type": "markdown",
      "metadata": {
        "id": "1KHHn2ilYnvS"
      },
      "source": [
        "We could also do it in one step: \n",
        "\n",
        "Q12 Type in the corresponding code from the video"
      ]
    },
    {
      "cell_type": "code",
      "metadata": {
        "id": "qr6ir5ggYt9K"
      },
      "source": [
        ""
      ],
      "execution_count": null,
      "outputs": []
    },
    {
      "cell_type": "markdown",
      "metadata": {
        "id": "IppXakDN6aEO"
      },
      "source": [
        "Video for next section"
      ]
    },
    {
      "cell_type": "code",
      "metadata": {
        "colab": {
          "base_uri": "https://localhost:8080/",
          "height": 325
        },
        "id": "KJqMGrJR6cvC",
        "outputId": "50c975e5-27df-4021-9af3-6d1f68a4cefb"
      },
      "source": [
        "%%html \n",
        "<iframe src=\"https://www.youtube.com//embed/OqBfsd6xTRs\" width=\"400\" height=\"300\"></iframe>"
      ],
      "execution_count": null,
      "outputs": [
        {
          "output_type": "display_data",
          "data": {
            "text/html": [
              "<iframe src=\"https://www.youtube.com//embed/OqBfsd6xTRs\" width=\"400\" height=\"300\"></iframe>"
            ],
            "text/plain": [
              "<IPython.core.display.HTML object>"
            ]
          },
          "metadata": {}
        }
      ]
    },
    {
      "cell_type": "markdown",
      "metadata": {
        "id": "VxO2hpTbY3-G"
      },
      "source": [
        "## Unique entries & values counts \n",
        "\n",
        "- Here we use `.unique()` to only give the first instances of the item. Results are returned as a list, which is useful for us later \n",
        "\n",
        "- This is useful for seeing how many values are in a categorical column \n",
        "\n",
        "Q13 Type in the corresponding code from the video"
      ]
    },
    {
      "cell_type": "code",
      "metadata": {
        "id": "3Tlk6ZgRY_41"
      },
      "source": [
        ""
      ],
      "execution_count": null,
      "outputs": []
    },
    {
      "cell_type": "markdown",
      "metadata": {
        "id": "FRRrNv6dZEi4"
      },
      "source": [
        "What are unique values for the Age field? \n",
        "\n",
        "Q14 type in the corresponding code from the video"
      ]
    },
    {
      "cell_type": "code",
      "metadata": {
        "id": "DCLbDCj5ZMhA"
      },
      "source": [
        ""
      ],
      "execution_count": null,
      "outputs": []
    },
    {
      "cell_type": "markdown",
      "metadata": {
        "id": "V850nM4YZNRQ"
      },
      "source": [
        "- To get total number of unique values and frequency in the data we use `value_counts()' \n",
        "\n",
        "Q15 Type in the corresponding code from the video"
      ]
    },
    {
      "cell_type": "code",
      "metadata": {
        "id": "wgu7_92SZYaU"
      },
      "source": [
        ""
      ],
      "execution_count": null,
      "outputs": []
    },
    {
      "cell_type": "markdown",
      "metadata": {
        "id": "IwboigEm6-l8"
      },
      "source": [
        "Video for next section"
      ]
    },
    {
      "cell_type": "code",
      "metadata": {
        "id": "LzKgkV0r7Bnm",
        "colab": {
          "base_uri": "https://localhost:8080/",
          "height": 325
        },
        "outputId": "bef2f2e8-dd9a-4f88-a4a4-81f4e4c34057"
      },
      "source": [
        "%%html \n",
        "<iframe src=\"https://www.youtube.com//embed/fM2IH1gJ-eM\" width=\"400\" height=\"300\"></iframe>"
      ],
      "execution_count": 10,
      "outputs": [
        {
          "output_type": "display_data",
          "data": {
            "text/html": [
              "<iframe src=\"https://www.youtube.com//embed/fM2IH1gJ-eM\" width=\"400\" height=\"300\"></iframe>"
            ],
            "text/plain": [
              "<IPython.core.display.HTML object>"
            ]
          },
          "metadata": {}
        }
      ]
    },
    {
      "cell_type": "markdown",
      "metadata": {
        "id": "Xk867sTZZc3s"
      },
      "source": [
        "## Selecting subsets of data \n",
        "\n",
        "- To make life easier we can create dataframes that just have the values we are interested in \n",
        "\n",
        "- This is a bit more complicated but follows this type of pattern: \n",
        "\n",
        "``` \n",
        "\n",
        "dataframe[dataframe[search criteria]] \n",
        "\n",
        "``` \n",
        "\n",
        "- We are basically creating a subset of the dataframe by matching all entries that match `search criteria` \n",
        "\n",
        "- That search criteria can be anything that is a conditional \n",
        "\n",
        "- Doing this gives you a new dataframe \n",
        "\n",
        "Q16 Type in the corresponding code from the video"
      ]
    },
    {
      "cell_type": "code",
      "metadata": {
        "id": "gDg85_E2Zi9Y"
      },
      "source": [
        ""
      ],
      "execution_count": null,
      "outputs": []
    },
    {
      "cell_type": "markdown",
      "metadata": {
        "id": "UvnaVK9ZZpaX"
      },
      "source": [
        "EG. A new dataframe of people with an Extroversion score over 6\n",
        "\n",
        "Q17 Type in the corresponding code from the video"
      ]
    },
    {
      "cell_type": "code",
      "metadata": {
        "id": "n-WpoPEjZ3Yo"
      },
      "source": [
        "\n",
        "\n"
      ],
      "execution_count": null,
      "outputs": []
    },
    {
      "cell_type": "markdown",
      "metadata": {
        "id": "61ivMbprZ4b4"
      },
      "source": [
        "EG. If we want the count of participants with an extraversion score greater than 6, we apply the .count() function to what we selected \n",
        "\n",
        "Q18 type in the corresponding code from the video"
      ]
    },
    {
      "cell_type": "code",
      "metadata": {
        "id": "kTQzWLv9aF3o"
      },
      "source": [
        ""
      ],
      "execution_count": null,
      "outputs": []
    },
    {
      "cell_type": "markdown",
      "metadata": {
        "id": "G_G5p1xXaJLo"
      },
      "source": [
        "This can be done in 1 line as well \n",
        "\n",
        "Q19 Type in the corresponding code from the video"
      ]
    },
    {
      "cell_type": "code",
      "metadata": {
        "id": "8LOaf-lxaSan"
      },
      "source": [
        ""
      ],
      "execution_count": null,
      "outputs": []
    },
    {
      "cell_type": "markdown",
      "metadata": {
        "id": "7qP44lacaTAn"
      },
      "source": [
        "Can you 'describe' the newly created dataframe, to get some basic information on the columns in the dataframe?\n",
        "\n",
        "Q20 Type in the corresponding code from the video"
      ]
    },
    {
      "cell_type": "code",
      "metadata": {
        "id": "hgt4OBY6agr-"
      },
      "source": [
        ""
      ],
      "execution_count": null,
      "outputs": []
    },
    {
      "cell_type": "markdown",
      "metadata": {
        "id": "bi67g-sIamwe"
      },
      "source": [
        "How can we sort our new datafeame?\n",
        "\n",
        "Q21 Type in the corresponding code from the video"
      ]
    },
    {
      "cell_type": "code",
      "metadata": {
        "id": "_FFy79wKau42"
      },
      "source": [
        ""
      ],
      "execution_count": null,
      "outputs": []
    },
    {
      "cell_type": "markdown",
      "metadata": {
        "id": "cNomc9qm7wg0"
      },
      "source": [
        "Video for next section"
      ]
    },
    {
      "cell_type": "code",
      "metadata": {
        "colab": {
          "base_uri": "https://localhost:8080/",
          "height": 325
        },
        "id": "-MlOs9Ck7zG8",
        "outputId": "8bf043cc-c5f0-4766-c5ca-d3a037512719"
      },
      "source": [
        "%%html \n",
        "<iframe src=\"https://www.youtube.com//embed/-m5C4ymSGQs\" width=\"400\" height=\"300\"></iframe>"
      ],
      "execution_count": null,
      "outputs": [
        {
          "output_type": "display_data",
          "data": {
            "text/html": [
              "<iframe src=\"https://www.youtube.com//embed/-m5C4ymSGQs\" width=\"400\" height=\"300\"></iframe>"
            ],
            "text/plain": [
              "<IPython.core.display.HTML object>"
            ]
          },
          "metadata": {}
        }
      ]
    },
    {
      "cell_type": "markdown",
      "metadata": {
        "id": "xX60ep_waz82"
      },
      "source": [
        "# Another Library, MatplotLib\n",
        "\n",
        "Let's take a look at graphing our results. We can use the `matplotlib` library to generate some graphs of our results. We always gives lists as parameters for the graphs\n",
        "\n",
        "Q22 Type in the corresponding code from th video"
      ]
    },
    {
      "cell_type": "code",
      "metadata": {
        "id": "XtJ3T6kaa7fe"
      },
      "source": [
        "#This line is for Jupyter's benefit\n",
        "\n",
        "#Import MayPlotLib to graph some results\n"
      ],
      "execution_count": null,
      "outputs": []
    },
    {
      "cell_type": "markdown",
      "metadata": {
        "id": "b5bZOz27bGdW"
      },
      "source": [
        "## Donut Charts\n",
        "Let's draw a donut chart of the number of people of each personality label.\n",
        "\n",
        "Q23 Type in the corresponding code from the video"
      ]
    },
    {
      "cell_type": "code",
      "metadata": {
        "id": "TmpoxCvobUsl"
      },
      "source": [
        "#All of the dependable people\n",
        "\n",
        "\n",
        "\n",
        "#All of the serious people\n",
        "\n",
        "\n",
        "\n",
        "#All of the extraverted people\n",
        "\n",
        "\n",
        "\n",
        "#All of the lively people\n",
        "\n",
        "\n",
        "\n",
        "#All of the responsible people\n",
        "\n",
        "\n",
        "\n",
        "# Matplot lib always wants data in a list, so we'll make one\n",
        "\n",
        "\n",
        "\n",
        "\n",
        "# Add a circle to create a hole in the pie chart\n",
        "\n",
        "\n",
        "\n",
        "\n",
        "plt.show()"
      ],
      "execution_count": null,
      "outputs": []
    },
    {
      "cell_type": "markdown",
      "metadata": {
        "id": "I5uyKVRmcEFr"
      },
      "source": [
        "###Histograms\n",
        "\n",
        "Say we wanted to plot the personality distribution of our data\n",
        "\n",
        "Q24 Type in the corresponding code from the video"
      ]
    },
    {
      "cell_type": "code",
      "metadata": {
        "id": "LrN1lmCpca76"
      },
      "source": [
        "# bins is the number of containers we'll split our x-axis values into\n",
        "bins = \n",
        "\n",
        "plt.hist(df[\"Personality\"],bins, color=('hotpink'), alpha=(0.9), hatch=\"//\", edgecolor='white')\n",
        "\n",
        "plt.title(\"Personality Distribution\", color=(0.2,0.6,0.4,0.6), size=30)\n",
        "\n",
        "\n",
        "\n",
        "#Set Background colour\n",
        "\n",
        "\n",
        "\n",
        "#Change the color of the x and y values\n",
        "\n",
        "\n",
        "\n",
        "\n"
      ],
      "execution_count": null,
      "outputs": []
    },
    {
      "cell_type": "markdown",
      "metadata": {
        "id": "uSt1OkpzcyJq"
      },
      "source": [
        "##Another Library: Seaborn\n",
        "Seaborn can do the same charts as Matplotlib, along with correlational charts that visualize correlations between variables.\n",
        "\n",
        "Install Seaborn\n",
        "\n",
        "Q25 Type in the corresponding code from the video"
      ]
    },
    {
      "cell_type": "code",
      "metadata": {
        "id": "AuJXwDc_c6oW"
      },
      "source": [
        ""
      ],
      "execution_count": null,
      "outputs": []
    },
    {
      "cell_type": "markdown",
      "metadata": {
        "id": "mb2o-TL6c-ff"
      },
      "source": [
        "Import Seaborn library, and ensure that numpy, matplotlib, and pandas are also imported\n",
        "\n",
        "Q26 Type in the corresponding code from the video"
      ]
    },
    {
      "cell_type": "code",
      "metadata": {
        "id": "guMTfdcbdKSr"
      },
      "source": [
        "#we already imported numpy, so we can skip importing it again\n",
        "#we already have imported matplotlib, so we can skip importing it again\n",
        "#we already have pandas imported, so we can skip that step as well!\n",
        "#Now all is left to import is Seaborn\n"
      ],
      "execution_count": null,
      "outputs": []
    },
    {
      "cell_type": "markdown",
      "metadata": {
        "id": "nvBTCZy6dQU7"
      },
      "source": [
        "###Create a violin plot to compare distribution between two variables\n",
        "\n",
        "Q27 Type in the corresponding code from the video"
      ]
    },
    {
      "cell_type": "code",
      "metadata": {
        "id": "8HT-fqSpdb-Y"
      },
      "source": [
        "#Create a violin chart\n",
        "\n",
        "               \n",
        "\n",
        "#Create a title\n"
      ],
      "execution_count": null,
      "outputs": []
    }
  ]
}