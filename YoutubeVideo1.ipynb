{
  "nbformat": 4,
  "nbformat_minor": 0,
  "metadata": {
    "colab": {
      "name": "YoutubeVideo1.ipynb",
      "provenance": []
    },
    "kernelspec": {
      "name": "python3",
      "display_name": "Python 3"
    },
    "language_info": {
      "name": "python"
    }
  },
  "cells": [
    {
      "cell_type": "markdown",
      "metadata": {
        "id": "ICpAbIUoilCd"
      },
      "source": [
        "![DSL_logo](https://github.com/BrockDSL/Intro_to_Python_Workshop/blob/master/dsl_logo.png?raw=1) \n",
        " \n",
        "\n",
        "![PythonPsycology](http://www.pygaze.org/wp-content/uploads/2016/10/Dalmaijer_2016_PEP-1024x356.jpg) \n",
        "\n",
        "  \n",
        "\n",
        "Welcome to the Digital Scholarship Lab introduction to Python class. By the end of today we'll know all about the following; \n",
        "\n",
        "- variables \n",
        "\n",
        "- math \n",
        "\n",
        "- conditional \n",
        "\n",
        "- loops \n",
        "\n",
        "- functions \n",
        "\n",
        "We'll use the Zoom's chat feature to interact. \n",
        "\n",
        "  \n",
        "\n",
        "Be sure to enable line numbers by looking for the 'gear' icon and checking the box in the 'Editor' panel. \n",
        "\n",
        "## MBTI Myers and Briggs 16 Personality Types and Carl Jung's 8 Cognitive Functions \n",
        "\n",
        "\n",
        "![CognitiveFunctions](https://i.pinimg.com/originals/5e/51/a6/5e51a64b31ebb3d45b1128b4b7a8ccf9.png) \n",
        "\n",
        "https://www.truity.com/test/type-finder-personality-test-new \n",
        "  \n",
        " \n",
        "\n",
        "## Python via Jupyter \n",
        "\n",
        "\n",
        "- Jupyter notebooks allow us to have code in a webpage \n",
        "\n",
        "- We'll use Python version 3! Honestly you shouldn't be using Python 2.X any longer \n",
        "\n",
        "- Each bit of code is in a 'cell'. We hit the play button to run each cell \n",
        "\n",
        "- Try it with the next cell. \n",
        "\n",
        "#Which Myers and Briggs (MBTI) type are you? \n",
        "\n",
        "![image.png](https://blog.trginternational.com/hs-fs/hubfs/images/MyersBriggsTypes.png?width=711&name=MyersBriggsTypes.png)"
      ]
    },
    {
      "cell_type": "code",
      "metadata": {
        "colab": {
          "base_uri": "https://localhost:8080/",
          "height": 325
        },
        "id": "k5KlfzXOqm1c",
        "outputId": "d7a42e27-cf20-4313-cf47-7b262f49a053"
      },
      "source": [
        "%%html \n",
        "<iframe src=\"https://www.youtube.com//embed/C6rdLS9Zvns\" width=\"400\" height=\"300\"></iframe>"
      ],
      "execution_count": null,
      "outputs": [
        {
          "output_type": "display_data",
          "data": {
            "text/html": [
              "<iframe src=\"https://www.youtube.com//embed/C6rdLS9Zvns\" width=\"400\" height=\"300\"></iframe>"
            ],
            "text/plain": [
              "<IPython.core.display.HTML object>"
            ]
          },
          "metadata": {}
        }
      ]
    },
    {
      "cell_type": "markdown",
      "metadata": {
        "id": "dktNthQNjMy5"
      },
      "source": [
        "##Examples of Variables using MBTI 16 personalities\n",
        "\n"
        <iframe
    width="640"
    height="480"
    src="https://www.youtube.com/embed/UmX4kyB2wfg"
    frameborder="0"
    allow="autoplay; encrypted-media"
    allowfullscreen
>
</iframe>
      ]
    },
    {
      "cell_type": "code",
      "metadata": {
        "colab": {
          "base_uri": "https://localhost:8080/",
          "height": 325
        },
        "id": "qTRSKvHUqz58",
        "outputId": "c6d61b3f-05ce-4347-b703-06e0374146c2"
      },
      "source": [
        "%%html \n",
        "<iframe src=\"https://www.youtube.com//embed/0HJXQT3dAsA\" width=\"400\" height=\"300\"></iframe>"
      ],
      "execution_count": null,
      "outputs": [
        {
          "output_type": "display_data",
          "data": {
            "text/html": [
              "<iframe src=\"https://www.youtube.com//embed/0HJXQT3dAsA\" width=\"400\" height=\"300\"></iframe>"
            ],
            "text/plain": [
              "<IPython.core.display.HTML object>"
            ]
          },
          "metadata": {}
        }
      ]
    },
    {
      "cell_type": "markdown",
      "metadata": {
        "id": "72Hyn1QFxqWj"
      },
      "source": [
        "Q1 Underneath each comment, write the code from the corresponding line in the video. When done, hit the play button to run the cell. Hit enter after completing the input prompts."
      ]
    },
    {
      "cell_type": "code",
      "metadata": {
        "id": "zpLls-eWhdPn"
      },
      "source": [
        "#Example variable 1 \n",
        "\n",
        "\n",
        "#Example variable 2\n",
        "\n",
        "\n",
        "#Example variable 3 - List\n",
        "\n",
        "\n",
        "#Example variable 4 - Integer\n",
        "\n",
        "\n",
        "#Example variable 4 - Real number"
      ],
      "execution_count": null,
      "outputs": []
    },
    {
      "cell_type": "markdown",
      "metadata": {
        "id": "7NBf4iXlkwpu"
      },
      "source": [
        "##Examples of using a pre-made function: print()\n",
        "\n"
      ]
    },
    {
      "cell_type": "code",
      "metadata": {
        "colab": {
          "base_uri": "https://localhost:8080/",
          "height": 325
        },
        "id": "26WuZWRKrfys",
        "outputId": "a9db1f4a-504f-42b6-d2ab-8d5007dadc4a"
      },
      "source": [
        "%%html \n",
        "<iframe src=\"https://www.youtube.com//embed/Ncrb-pTx7U0\" width=\"400\" height=\"300\"></iframe>"
      ],
      "execution_count": null,
      "outputs": [
        {
          "output_type": "display_data",
          "data": {
            "text/html": [
              "<iframe src=\"https://www.youtube.com//embed/Ncrb-pTx7U0\" width=\"400\" height=\"300\"></iframe>"
            ],
            "text/plain": [
              "<IPython.core.display.HTML object>"
            ]
          },
          "metadata": {}
        }
      ]
    },
    {
      "cell_type": "markdown",
      "metadata": {
        "id": "oCkvXTJmxmW8"
      },
      "source": [
        "Q2 Fill in the corresponding code from the video"
      ]
    },
    {
      "cell_type": "code",
      "metadata": {
        "id": "4yCVsTiqkxUd"
      },
      "source": [
        "#Example of the print function so that we can see the variables we just created\n",
        "\n",
        "\n",
        "#Example of the print function 2\n",
        "\n",
        "\n",
        "#Example of the print function 3\n"
      ],
      "execution_count": null,
      "outputs": []
    },
    {
      "cell_type": "markdown",
      "metadata": {
        "id": "TUQtI4lmkx6u"
      },
      "source": [
        "##Examples of Conditionals\n",
        "\n"
      ]
    },
    {
      "cell_type": "code",
      "metadata": {
        "colab": {
          "base_uri": "https://localhost:8080/",
          "height": 325
        },
        "id": "ZT6dRhQfsLYX",
        "outputId": "57f455ae-2e89-4211-d97a-2bc78235c6da"
      },
      "source": [
        "%%html \n",
        "<iframe src=\"https://www.youtube.com//embed/H3xi57JMoyM\" width=\"400\" height=\"300\"></iframe>"
      ],
      "execution_count": null,
      "outputs": [
        {
          "output_type": "display_data",
          "data": {
            "text/html": [
              "<iframe src=\"https://www.youtube.com//embed/H3xi57JMoyM\" width=\"400\" height=\"300\"></iframe>"
            ],
            "text/plain": [
              "<IPython.core.display.HTML object>"
            ]
          },
          "metadata": {}
        }
      ]
    },
    {
      "cell_type": "markdown",
      "metadata": {
        "id": "7FROmMsNxfbb"
      },
      "source": [
        "Q3 Write the conditional statement from the video"
      ]
    },
    {
      "cell_type": "code",
      "metadata": {
        "id": "aqG41Ftvkygp"
      },
      "source": [
        "\n",
        "\n",
        "\n"
      ],
      "execution_count": null,
      "outputs": []
    },
    {
      "cell_type": "markdown",
      "metadata": {
        "id": "qJE7EAZ1k1h0"
      },
      "source": [
        "###Review of List variable, and intro dictionary variable\n",
        "\n"
      ]
    },
    {
      "cell_type": "code",
      "metadata": {
        "colab": {
          "base_uri": "https://localhost:8080/",
          "height": 325
        },
        "id": "R2RlG3qHsw5U",
        "outputId": "fb45c1f1-9233-43f0-a696-21d277b0326f"
      },
      "source": [
        "%%html \n",
        "<iframe src=\"https://www.youtube.com//embed/5jiLE9CPgbs\" width=\"400\" height=\"300\"></iframe>"
      ],
      "execution_count": null,
      "outputs": [
        {
          "output_type": "display_data",
          "data": {
            "text/html": [
              "<iframe src=\"https://www.youtube.com//embed/5jiLE9CPgbs\" width=\"400\" height=\"300\"></iframe>"
            ],
            "text/plain": [
              "<IPython.core.display.HTML object>"
            ]
          },
          "metadata": {}
        }
      ]
    },
    {
      "cell_type": "markdown",
      "metadata": {
        "id": "vF5R8rj7xaCj"
      },
      "source": [
        "Q4 Write the corresponding code from the video"
      ]
    },
    {
      "cell_type": "code",
      "metadata": {
        "id": "5Z5IQfrck2fi"
      },
      "source": [
        "#Review of what a list variable looks like\n",
        "\n",
        "\n",
        "#Now, an example of what a dictionary variable looks like\n",
        "\n",
        "\n",
        "\n",
        "\n",
        "\n",
        "\n",
        "\n",
        "\n",
        "\n",
        "\n",
        "\n",
        "\n",
        "\n",
        "\n",
        "\n",
        "\n",
        "\n",
        "#A second useful example of a dictionary\n",
        "\n",
        "\n",
        "\n",
        "\n",
        "\n",
        "\n",
        "\n",
        "\n",
        "\n",
        "\n",
        "\n",
        "\n",
        "\n",
        "\n",
        "\n",
        "\n",
        "\n",
        "#Remeber the closing squiggly bracket that should be in line 39!"
      ],
      "execution_count": null,
      "outputs": []
    },
    {
      "cell_type": "markdown",
      "metadata": {
        "id": "xv1drCjKk5aU"
      },
      "source": [
        "- We can print a dictionary in a very similar way to other variables like we saw earlier.\n",
        "\n"
      ]
    },
    {
      "cell_type": "code",
      "metadata": {
        "colab": {
          "base_uri": "https://localhost:8080/",
          "height": 325
        },
        "id": "Xsfy1ZI0tIU5",
        "outputId": "1b5fafad-6fcc-4493-bee3-7a54c301bf8f"
      },
      "source": [
        "%%html \n",
        "<iframe src=\"https://www.youtube.com//embed/5B-izV8Ghkw\" width=\"400\" height=\"300\"></iframe>"
      ],
      "execution_count": null,
      "outputs": [
        {
          "output_type": "display_data",
          "data": {
            "text/html": [
              "<iframe src=\"https://www.youtube.com//embed/5B-izV8Ghkw\" width=\"400\" height=\"300\"></iframe>"
            ],
            "text/plain": [
              "<IPython.core.display.HTML object>"
            ]
          },
          "metadata": {}
        }
      ]
    },
    {
      "cell_type": "markdown",
      "metadata": {
        "id": "Hs5ZGq-oxT-8"
      },
      "source": [
        "Q5 Write the corresponding code from the video"
      ]
    },
    {
      "cell_type": "code",
      "metadata": {
        "id": "EIbiadlqk6Cy"
      },
      "source": [
        ""
      ],
      "execution_count": null,
      "outputs": []
    },
    {
      "cell_type": "markdown",
      "metadata": {
        "id": "Ywc3aa9nm11b"
      },
      "source": [
        "- You can do some interesting things with dictionaries, (we'll see more as time goes on)\n",
        "- For example you can print out different parts of the dictionary by adding in a key\n",
        "\n",
        "Q6 Write the corresponding codes from the video"
      ]
    },
    {
      "cell_type": "code",
      "metadata": {
        "id": "e3PncOTRm9pP"
      },
      "source": [
        ""
      ],
      "execution_count": null,
      "outputs": []
    },
    {
      "cell_type": "code",
      "metadata": {
        "id": "FJ2c7tBHnA_J"
      },
      "source": [
        ""
      ],
      "execution_count": null,
      "outputs": []
    },
    {
      "cell_type": "code",
      "metadata": {
        "id": "2OIoTAsynAon"
      },
      "source": [
        ""
      ],
      "execution_count": null,
      "outputs": []
    },
    {
      "cell_type": "markdown",
      "metadata": {
        "id": "EHrb7VaynB33"
      },
      "source": [
        "##Doing Math in Python\n",
        "\n"
      ]
    },
    {
      "cell_type": "code",
      "metadata": {
        "colab": {
          "base_uri": "https://localhost:8080/",
          "height": 325
        },
        "id": "x5M2QkTxtgtC",
        "outputId": "31ae008b-b2b0-41c5-c383-0208e6e43282"
      },
      "source": [
        "%%html \n",
        "<iframe src=\"https://www.youtube.com//embed/FNweCCPXH1U\" width=\"400\" height=\"300\"></iframe>"
      ],
      "execution_count": null,
      "outputs": [
        {
          "output_type": "display_data",
          "data": {
            "text/html": [
              "<iframe src=\"https://www.youtube.com//embed/FNweCCPXH1U\" width=\"400\" height=\"300\"></iframe>"
            ],
            "text/plain": [
              "<IPython.core.display.HTML object>"
            ]
          },
          "metadata": {}
        }
      ]
    },
    {
      "cell_type": "markdown",
      "metadata": {
        "id": "rIRVaz7xxNhE"
      },
      "source": [
        "Q7 Write the corresponding code from the video"
      ]
    },
    {
      "cell_type": "code",
      "metadata": {
        "id": "iA2aKD_SnN63"
      },
      "source": [
        "#Let's find the total percentage of sensors and intuitives in the population\n",
        "\n",
        "\n",
        "\n",
        "\n",
        "\n",
        "\n",
        "\n",
        "\n",
        "\n",
        "\n",
        "\n",
        "\n",
        "\n",
        "\n",
        "\n",
        "\n",
        "\n",
        "#Let's find the total percentage of judgers (J) and Perceivers (P) in the population\n",
        "\n",
        "\n",
        "\n",
        "\n",
        "\n",
        "\n",
        "\n",
        "\n",
        "\n",
        "\n",
        "\n",
        "\n",
        "\n",
        "\n",
        "\n",
        "print(perceivers)"
      ],
      "execution_count": null,
      "outputs": []
    },
    {
      "cell_type": "code",
      "metadata": {
        "id": "DqFUjbRsnqYL"
      },
      "source": [
        "#Example of using the division symbol: the average percentage of a sensor and intuitive found in the population\n",
        "\n",
        "\n",
        "\n",
        "\n",
        "\n",
        "#Turning them back into their total percentage of the population, using multiplication\n",
        "\n",
        "\n",
        "print(avgsensor * 8)"
      ],
      "execution_count": null,
      "outputs": []
    },
    {
      "cell_type": "markdown",
      "metadata": {
        "id": "3DFvYzbqoGlU"
      },
      "source": [
        "##Printing items to the screen using Loops\n",
        "\n"
      ]
    },
    {
      "cell_type": "code",
      "metadata": {
        "colab": {
          "base_uri": "https://localhost:8080/",
          "height": 325
        },
        "id": "IE2Q88AruDRF",
        "outputId": "573783f5-ff9f-4dec-9748-fa75b957ce6c"
      },
      "source": [
        "%%html \n",
        "<iframe src=\"https://www.youtube.com//embed/qLEnR81ctFY\" width=\"400\" height=\"300\"></iframe>"
      ],
      "execution_count": null,
      "outputs": [
        {
          "output_type": "display_data",
          "data": {
            "text/html": [
              "<iframe src=\"https://www.youtube.com//embed/qLEnR81ctFY\" width=\"400\" height=\"300\"></iframe>"
            ],
            "text/plain": [
              "<IPython.core.display.HTML object>"
            ]
          },
          "metadata": {}
        }
      ]
    },
    {
      "cell_type": "markdown",
      "metadata": {
        "id": "aa3QZZ1qxGJi"
      },
      "source": [
        "Q8 Write the corresponding code from the video"
      ]
    },
    {
      "cell_type": "code",
      "metadata": {
        "id": "7tEho49bopy2"
      },
      "source": [
        "#Review of one way to print out the contents a list\n",
        "\n",
        "\n",
        "\n",
        "#Create a space between the two versions using an empty print function\n",
        "\n",
        "#What happens when you print the contents of a list using a loop\n",
        ":\n",
        "  print(personality)"
      ],
      "execution_count": null,
      "outputs": []
    },
    {
      "cell_type": "markdown",
      "metadata": {
        "id": "XG9-6MAapHgO"
      },
      "source": [
        "##Counting items in a list using loops\n",
        "\n"
      ]
    },
    {
      "cell_type": "code",
      "metadata": {
        "colab": {
          "base_uri": "https://localhost:8080/",
          "height": 325
        },
        "id": "6cl-szJ5ukjE",
        "outputId": "fcdd07b6-2a76-4fa1-e486-cb96eb9966c6"
      },
      "source": [
        "%%html \n",
        "<iframe src=\"https://www.youtube.com//embed/qz_EH01tM_E\" width=\"400\" height=\"300\"></iframe>"
      ],
      "execution_count": null,
      "outputs": [
        {
          "output_type": "display_data",
          "data": {
            "text/html": [
              "<iframe src=\"https://www.youtube.com//embed/qz_EH01tM_E\" width=\"400\" height=\"300\"></iframe>"
            ],
            "text/plain": [
              "<IPython.core.display.HTML object>"
            ]
          },
          "metadata": {}
        }
      ]
    },
    {
      "cell_type": "markdown",
      "metadata": {
        "id": "cKWhPOcqxAXq"
      },
      "source": [
        "Q9 Write the corresponding code from the video"
      ]
    },
    {
      "cell_type": "code",
      "metadata": {
        "id": "ei_KjIEApNtd"
      },
      "source": [
        "intuitives = [\"infp\", \"infj\", \"entj\", \"intj\", \"enfj\", \"enfp\", \"entp\", \"intp\"]\n",
        "\n",
        "\n",
        "\n",
        "\n",
        "\n",
        "\n",
        "\n",
        "print(\"Total Intuitives: \", total_intuitives)"
      ],
      "execution_count": null,
      "outputs": []
    },
    {
      "cell_type": "markdown",
      "metadata": {
        "id": "BQ24lILqph3w"
      },
      "source": [
        "### Dictionaries and Loops\n",
        "\n",
        "- Watch what happens when we try to do a loop through a dictionary\n",
        "\n",
        "Q10 Write the corresponding code from the video"
      ]
    },
    {
      "cell_type": "code",
      "metadata": {
        "id": "VoygpVXMpsa8"
      },
      "source": [
        "for :\n",
        "    print()"
      ],
      "execution_count": null,
      "outputs": []
    },
    {
      "cell_type": "markdown",
      "metadata": {
        "id": "dxQljP-Op5e8"
      },
      "source": [
        "- Since dictionaries are more complex, there are many ways to interact with them\n",
        "- We add .values() to get the values of the dictionary\n",
        "- We add .keys() to get the keys of the dictionary\n",
        "\n",
        "Q11 Write the corresponding code from the video"
      ]
    },
    {
      "cell_type": "code",
      "metadata": {
        "id": "pvS9ieOhqAhD"
      },
      "source": [
        "#print all the items in our Dictionary\n",
        "\n",
        "for :\n",
        "    print()"
      ],
      "execution_count": null,
      "outputs": []
    },
    {
      "cell_type": "code",
      "metadata": {
        "id": "nsOCVjVUqvG6"
      },
      "source": [
        "# print out the keys in our Dictionary\n",
        "\n",
        "for :\n",
        "    print()"
      ],
      "execution_count": null,
      "outputs": []
    },
    {
      "cell_type": "markdown",
      "metadata": {
        "id": "ByZ7Xi7oq__G"
      },
      "source": [
        "## Conditionals\n",
        "\n",
        "- When we want to run a piece of code only if something is true\n",
        "- We can compare with the following:\n",
        "\n",
        "        ==\n",
        "        >=\n",
        "        <=\n",
        "        <\n",
        "        >\n",
        "        !="
      ]
    },
    {
      "cell_type": "code",
      "metadata": {
        "colab": {
          "base_uri": "https://localhost:8080/",
          "height": 325
        },
        "id": "lkZ6WKvdvE8s",
        "outputId": "2e702951-1535-471f-e519-ec7145da493e"
      },
      "source": [
        "%%html \n",
        "<iframe src=\"https://www.youtube.com//embed/ce02EeFRfRU\" width=\"400\" height=\"300\"></iframe>"
      ],
      "execution_count": null,
      "outputs": [
        {
          "output_type": "display_data",
          "data": {
            "text/html": [
              "<iframe src=\"https://www.youtube.com//embed/ce02EeFRfRU\" width=\"400\" height=\"300\"></iframe>"
            ],
            "text/plain": [
              "<IPython.core.display.HTML object>"
            ]
          },
          "metadata": {}
        }
      ]
    },
    {
      "cell_type": "markdown",
      "metadata": {
        "id": "-SyIlsB5rF7X"
      },
      "source": [
        "- Let's pretend that anything less than 4 percent of the population is rare. Let' make a conditional that prints out if an **intp** is rare\n",
        "\n",
        "Q12 Write the code from the corresponding code in the video"
      ]
    },
    {
      "cell_type": "code",
      "metadata": {
        "id": "2o7dABg4rPlQ"
      },
      "source": [
        "\n",
        "\n",
        "\n",
        "\n"
      ],
      "execution_count": null,
      "outputs": []
    },
    {
      "cell_type": "markdown",
      "metadata": {
        "id": "SP4HIR1SrggN"
      },
      "source": [
        "## Combining with boolean\n",
        "\n",
        "- Sometimes we want to combine conditionals because we want to test more complicated things\n",
        "- We can do this with the following:\n",
        "    - and\n",
        "    - or\n",
        "    - not\n",
        "- Here's a mini version of the mbti test using the 'and' statement\n",
        "\n"
      ]
    },
    {
      "cell_type": "code",
      "metadata": {
        "colab": {
          "base_uri": "https://localhost:8080/",
          "height": 325
        },
        "id": "g3-31aRuv1yl",
        "outputId": "68e12aea-5610-4127-e414-92fc721b55ac"
      },
      "source": [
        "%%html \n",
        "<iframe src=\"https://www.youtube.com//embed/WykMPHWquxM\" width=\"400\" height=\"300\"></iframe>"
      ],
      "execution_count": null,
      "outputs": [
        {
          "output_type": "display_data",
          "data": {
            "text/html": [
              "<iframe src=\"https://www.youtube.com//embed/WykMPHWquxM\" width=\"400\" height=\"300\"></iframe>"
            ],
            "text/plain": [
              "<IPython.core.display.HTML object>"
            ]
          },
          "metadata": {}
        }
      ]
    },
    {
      "cell_type": "markdown",
      "metadata": {
        "id": "0BIuLLM-w2MH"
      },
      "source": [
        "Q13 Write the corresponding code from the video"
      ]
    },
    {
      "cell_type": "code",
      "metadata": {
        "id": "YdyQgc5Prtzk"
      },
      "source": [
        "Question_1 = input()\n",
        "\n",
        "Question_2 = input()\n",
        "\n",
        "if :\n",
        "  print()\n",
        "  print()\n",
        "if :\n",
        "  print()\n",
        "  print()\n",
        "# There aren't any possibilities for Q1 = a and Q2 = c in this mini test \n",
        "# There aren't any possibilities for Q1 = b and Q2 = b in this mini test\n",
        "if :\n",
        "  print()\n",
        "  print()\n",
        "if :\n",
        "  print()\n",
        "  print()\n",
        "if :\n",
        "  print()\n",
        "  print()\n",
        "if :\n",
        "  print()\n",
        "  print()\n",
        "if :\n",
        "  print()\n",
        "  print()"
      ],
      "execution_count": null,
      "outputs": []
    },
    {
      "cell_type": "markdown",
      "metadata": {
        "id": "-MxjEcUJtUx1"
      },
      "source": [
        "## Functions\n",
        "\n",
        "- Functions are bits of code that do a certain task in a certain way\n",
        "- We saw this earlier with the print() function\n",
        "- We also just used the int() function in our game\n",
        "- some functions need arguments or paramaters. We pass those in the the round brackets. EG. we pass what string variable we want turned into an integer with the int() function.\n",
        "- we can create our own functions too"
      ]
    },
    {
      "cell_type": "markdown",
      "metadata": {
        "id": "Yzevm3fftceQ"
      },
      "source": [
        "- The function below will change the values to decimals from percentage\n",
        "- Statements can get pretty long if you call lots of functions in them\n",
        "- Here we find the isfp's percentage converted to decimal and print it\n",
        "\n",
        "\n"
      ]
    },
    {
      "cell_type": "code",
      "metadata": {
        "colab": {
          "base_uri": "https://localhost:8080/",
          "height": 325
        },
        "id": "RepmG9yLwItP",
        "outputId": "afc84d51-a1c9-4304-b383-07f502dd1a6d"
      },
      "source": [
        "%%html \n",
        "<iframe src=\"https://www.youtube.com//embed/uBuSyiOPz9A\" width=\"400\" height=\"300\"></iframe>"
      ],
      "execution_count": null,
      "outputs": [
        {
          "output_type": "display_data",
          "data": {
            "text/html": [
              "<iframe src=\"https://www.youtube.com//embed/uBuSyiOPz9A\" width=\"400\" height=\"300\"></iframe>"
            ],
            "text/plain": [
              "<IPython.core.display.HTML object>"
            ]
          },
          "metadata": {}
        }
      ]
    },
    {
      "cell_type": "markdown",
      "metadata": {
        "id": "rzSnd4NAwvWF"
      },
      "source": [
        "Q14 Write the corresponding code from the video"
      ]
    },
    {
      "cell_type": "code",
      "metadata": {
        "id": "NgoLPNS1ttsZ"
      },
      "source": [
        "\n",
        "\n",
        "\n"
      ],
      "execution_count": null,
      "outputs": []
    }
  ]
}
