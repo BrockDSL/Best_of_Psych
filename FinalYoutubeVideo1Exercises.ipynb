{
  "nbformat": 4,
  "nbformat_minor": 0,
  "metadata": {
    "colab": {
      "name": "FinalYoutubeVideo1Exercises.ipynb",
      "provenance": [],
      "collapsed_sections": []
    },
    "kernelspec": {
      "name": "python3",
      "display_name": "Python 3"
    },
    "language_info": {
      "name": "python"
    }
  },
  "cells": [
    {
      "cell_type": "markdown",
      "metadata": {
        "id": "ICpAbIUoilCd"
      },
      "source": [
        "![DSL_logo](https://github.com/BrockDSL/Intro_to_Python_Workshop/blob/master/dsl_logo.png?raw=1) \n",
        " \n",
        "\n",
        "![PythonPsycology](http://www.pygaze.org/wp-content/uploads/2016/10/Dalmaijer_2016_PEP-1024x356.jpg) \n",
        "\n",
        "  \n",
        "\n",
        "Welcome to the Digital Scholarship Lab introduction to Python class. By the end of today we'll know all about the following; \n",
        "\n",
        "- variables \n",
        "\n",
        "- math \n",
        "\n",
        "- conditional \n",
        "\n",
        "- loops \n",
        "\n",
        "- functions \n",
        "\n",
        " \n",
        "\n",
        "  \n",
        "\n",
        "Be sure to enable line numbers by looking for the 'gear' icon and checking the box in the 'Editor' panel. \n",
        "\n",
        "##The purpose of this tutorial is to allow python learners to learn at their own pace. In each section, watch the Youtube video at the beginning. Then write the code in the Youtube video in the code cell bellow it.\n",
        "\n",
        "\n",
        "\n",
        "##Most of the codes are almost complete, you just need to watch the preceeding videos to see what's missing.\n",
        "\n",
        "\n",
        "\n",
        "##We will use the MBTI 16 personalities test to make learning Python more interesting.\n",
        "\n",
        "\n",
        "\n",
        "\n",
        "\n",
        "## MBTI Myers and Briggs 16 Personality Types and Carl Jung's 8 Cognitive Functions \n",
        "\n",
        "\n",
        "![CognitiveFunctions](https://i.pinimg.com/originals/5e/51/a6/5e51a64b31ebb3d45b1128b4b7a8ccf9.png) \n",
        "\n",
        "https://www.truity.com/test/type-finder-personality-test-new \n",
        "  \n",
        " \n",
        "\n",
        "## Python via Jupyter \n",
        "\n",
        "\n",
        "- Jupyter notebooks allow us to have code in a webpage \n",
        "\n",
        "- We'll use Python version 3! Honestly you shouldn't be using Python 2.X any longer \n",
        "\n",
        "- Each bit of code is in a 'cell'. We hit the play button to run each cell \n",
        "\n",
        "- Try it with the next cell. \n",
        "\n",
        "#Which Myers and Briggs (MBTI) type are you? \n",
        "\n",
        "![image.png](https://blog.trginternational.com/hs-fs/hubfs/images/MyersBriggsTypes.png?width=711&name=MyersBriggsTypes.png)"
      ]
    },
    {
      "cell_type": "markdown",
      "metadata": {
        "id": "n2hSTjXsj-dC"
      },
      "source": [
        "# Watch the introduction video below \n",
        "\n",
        "You do not need to click the links that say 'show code'! To watch the videos, click right on the video"
      ]
    },
    {
      "cell_type": "code",
      "metadata": {
        "cellView": "form",
        "colab": {
          "base_uri": "https://localhost:8080/",
          "height": 321
        },
        "id": "GF-jXjJQOn80",
        "outputId": "dc420e90-14bd-434d-d4b5-80a75721aa45"
      },
      "source": [
        "#@title\n",
        "from IPython.display import YouTubeVideo\n",
        "YouTubeVideo('C6rdLS9Zvns')"
      ],
      "execution_count": null,
      "outputs": [
        {
          "output_type": "execute_result",
          "data": {
            "text/html": [
              "\n",
              "        <iframe\n",
              "            width=\"400\"\n",
              "            height=\"300\"\n",
              "            src=\"https://www.youtube.com/embed/C6rdLS9Zvns\"\n",
              "            frameborder=\"0\"\n",
              "            allowfullscreen\n",
              "        ></iframe>\n",
              "        "
            ],
            "text/plain": [
              "<IPython.lib.display.YouTubeVideo at 0x7f827f2ce410>"
            ],
            "image/jpeg": "[encoded data removed]"
          },
          "metadata": {},
          "execution_count": 6
        }
      ]
    },
    {
      "cell_type": "markdown",
      "metadata": {
        "id": "dktNthQNjMy5"
      },
      "source": [
        "##Examples of Variables using MBTI 16 personalities\n",
        "\n"
      ]
    },
    {
      "cell_type": "markdown",
      "metadata": {
        "id": "eVVSH2_HQjee"
      },
      "source": [
        "Watch the video below to learn what variables are and their purpose."
      ]
    },
    {
      "cell_type": "code",
      "metadata": {
        "colab": {
          "base_uri": "https://localhost:8080/",
          "height": 321
        },
        "cellView": "form",
        "id": "1t-gMqJBQ-I7",
        "outputId": "28a2aa1d-3cb6-4c92-d641-07f8c29adbae"
      },
      "source": [
        "#@title\n",
        "from IPython.display import YouTubeVideo\n",
        "YouTubeVideo('4qtEGiZhR-I')"
      ],
      "execution_count": 1,
      "outputs": [
        {
          "output_type": "execute_result",
          "data": {
            "text/html": [
              "\n",
              "        <iframe\n",
              "            width=\"400\"\n",
              "            height=\"300\"\n",
              "            src=\"https://www.youtube.com/embed/4qtEGiZhR-I\"\n",
              "            frameborder=\"0\"\n",
              "            allowfullscreen\n",
              "        ></iframe>\n",
              "        "
            ],
            "text/plain": [
              "<IPython.lib.display.YouTubeVideo at 0x7f858448b710>"
            ],
            "image/jpeg": "[encoded data removed]"
          },
          "metadata": {},
          "execution_count": 1
        }
      ]
    },
    {
      "cell_type": "markdown",
      "metadata": {
        "id": "72Hyn1QFxqWj"
      },
      "source": [
        "Q1 Underneath each comment, write the code from the corresponding line in the video. When done, hit the play button to run the cell. Hit enter after completing the input prompts."
      ]
    },
    {
      "cell_type": "code",
      "metadata": {
        "id": "zpLls-eWhdPn"
      },
      "source": [
        "#Example variable 1 - insert a string value within quotation marks\n",
        "mbt_type_I_think_you_are =\n",
        "\n",
        "#Example variable 2 - Replace 'TypeAQuestion' with \"What is your type? \"\n",
        "mbti_type_you_think_you_are = input(\"TypeAQuestion\")\n",
        "\n",
        "#Example variable 3 - List\n",
        "mbti_types = [\"isfp\", \"istp\", \"infp\", \"infj\", \"intj\", \"intp\", \"entp\", \"esfj\", \"isfj\", \"estj\", \"estp\", \"istj\", \"entj\", \"enfp\", \"entj\", \"enfj\"]\n",
        "\n",
        "#Example variable 4 - Integer\n",
        "number_of_mbti = 16\n",
        "\n",
        "#Example variable 4 - Real number\n",
        "infj_prevalence_decimal_value = 0.02"
      ],
      "execution_count": null,
      "outputs": []
    },
    {
      "cell_type": "markdown",
      "metadata": {
        "id": "7NBf4iXlkwpu"
      },
      "source": [
        "##Examples of using a pre-made function: print()\n",
        "\n",
        "You just saw that the variable with the input function within it printed to the screen, but the other variables did not print to the screen.\n",
        "\n",
        "You can print those other variables to the screen using the print function.\n",
        "\n"
      ]
    },
    {
      "cell_type": "code",
      "metadata": {
        "cellView": "form",
        "colab": {
          "base_uri": "https://localhost:8080/",
          "height": 321
        },
        "id": "t2AxFgp0RPZ7",
        "outputId": "4029764a-2e27-4b88-8534-cd6c9a3a8452"
      },
      "source": [
        "#@title\n",
        "from IPython.display import YouTubeVideo\n",
        "YouTubeVideo('dvLzo02s78g')"
      ],
      "execution_count": 2,
      "outputs": [
        {
          "output_type": "execute_result",
          "data": {
            "text/html": [
              "\n",
              "        <iframe\n",
              "            width=\"400\"\n",
              "            height=\"300\"\n",
              "            src=\"https://www.youtube.com/embed/dvLzo02s78g\"\n",
              "            frameborder=\"0\"\n",
              "            allowfullscreen\n",
              "        ></iframe>\n",
              "        "
            ],
            "text/plain": [
              "<IPython.lib.display.YouTubeVideo at 0x7f858448b290>"
            ],
            "image/jpeg": "[encoded data removed]"
          },
          "metadata": {},
          "execution_count": 2
        }
      ]
    },
    {
      "cell_type": "markdown",
      "metadata": {
        "id": "oCkvXTJmxmW8"
      },
      "source": [
        "Q2 Fill in the corresponding code from the video"
      ]
    },
    {
      "cell_type": "code",
      "metadata": {
        "id": "4yCVsTiqkxUd"
      },
      "source": [
        "#Example of the print function - print your mbti type using the variable name in which it is stored\n",
        "print()\n",
        "\n",
        "#Example of the print function 2 - Finish the sentence by inserting your same mbti variable as you entered above, between the two plus \"+\" signs\n",
        "print(\"Hello \"+  + \"!\")\n",
        "\n",
        "#Example of the print function 3 - when you're variable contains a number, you join it to tstrings using commas instead of \"+\"\n",
        "print(\"There are\" ,  ,\" personalities\")"
      ],
      "execution_count": null,
      "outputs": []
    },
    {
      "cell_type": "markdown",
      "metadata": {
        "id": "TUQtI4lmkx6u"
      },
      "source": [
        "##Brief Examples of Conditionals\n",
        "\n",
        "Now is an appropriate time to learn how you can print a message to the screen based on what input you entered for the variable.\n",
        "\n",
        "We will talk more about conditionals later"
      ]
    },
    {
      "cell_type": "code",
      "metadata": {
        "cellView": "form",
        "colab": {
          "base_uri": "https://localhost:8080/",
          "height": 321
        },
        "id": "rncKP0bTRR_b",
        "outputId": "009d3feb-1ae1-44b3-8eb3-e04db4281295"
      },
      "source": [
        "#@title\n",
        "from IPython.display import YouTubeVideo\n",
        "YouTubeVideo('Qv2KoegkHbY')"
      ],
      "execution_count": 12,
      "outputs": [
        {
          "output_type": "execute_result",
          "data": {
            "text/html": [
              "\n",
              "        <iframe\n",
              "            width=\"400\"\n",
              "            height=\"300\"\n",
              "            src=\"https://www.youtube.com/embed/Qv2KoegkHbY\"\n",
              "            frameborder=\"0\"\n",
              "            allowfullscreen\n",
              "        ></iframe>\n",
              "        "
            ],
            "text/plain": [
              "<IPython.lib.display.YouTubeVideo at 0x7f858057d4d0>"
            ],
            "image/jpeg": "[encoded data removed]"
          },
          "metadata": {},
          "execution_count": 12
        }
      ]
    },
    {
      "cell_type": "markdown",
      "metadata": {
        "id": "7FROmMsNxfbb"
      },
      "source": [
        "Q3 Complete the conditional statement using the above video for answers"
      ]
    },
    {
      "cell_type": "code",
      "metadata": {
        "id": "aqG41Ftvkygp"
      },
      "source": [
        "if == \"estj\" and == \"estj\":\n",
        "  print(\"I guessed your type right\")\n",
        "else:\n",
        "  print(\"I guessed your type wrong\")"
      ],
      "execution_count": null,
      "outputs": []
    },
    {
      "cell_type": "markdown",
      "metadata": {
        "id": "qJE7EAZ1k1h0"
      },
      "source": [
        "###Review of List variable, and intro dictionary variable\n",
        "\n",
        "Below you can review what a list variable looks like, and compare it to a dictionary variable. \n",
        "\n",
        "Basically, a dictionary is a list, but with corresponding variables alongside each item.\n",
        "\n",
        "While lists use square brackets \"[ ]\", dictionaries use squiggly brackets \"{ }\"\n",
        "\n"
      ]
    },
    {
      "cell_type": "code",
      "metadata": {
        "cellView": "form",
        "colab": {
          "base_uri": "https://localhost:8080/",
          "height": 321
        },
        "id": "jAMRm9u1RT8D",
        "outputId": "c15d52e1-b7a9-45a0-b339-796b78da515c"
      },
      "source": [
        "#@title\n",
        "from IPython.display import YouTubeVideo\n",
        "YouTubeVideo('_8IuPcuQRKk')"
      ],
      "execution_count": 15,
      "outputs": [
        {
          "output_type": "execute_result",
          "data": {
            "text/html": [
              "\n",
              "        <iframe\n",
              "            width=\"400\"\n",
              "            height=\"300\"\n",
              "            src=\"https://www.youtube.com/embed/_8IuPcuQRKk\"\n",
              "            frameborder=\"0\"\n",
              "            allowfullscreen\n",
              "        ></iframe>\n",
              "        "
            ],
            "text/plain": [
              "<IPython.lib.display.YouTubeVideo at 0x7f85805d7150>"
            ],
            "image/jpeg": "[encoded data removed]"
          },
          "metadata": {},
          "execution_count": 15
        }
      ]
    },
    {
      "cell_type": "markdown",
      "metadata": {
        "id": "vF5R8rj7xaCj"
      },
      "source": [
        "Q4 Examine the corresponding code from the video"
      ]
    },
    {
      "cell_type": "code",
      "metadata": {
        "id": "5Z5IQfrck2fi"
      },
      "source": [
        "#Review of what a list variable looks like\n",
        "mbti_types = [\"isfp\", \"istp\", \"infp\", \"infj\", \"intj\", \"intp\", \"entp\", \"esfj\", \"isfj\", \"estj\", \"estp\", \"istj\", \"entj\", \"enfp\", \"entj\", \"enfj\"]\n",
        "\n",
        "#Now, an example of what a dictionary variable looks like\n",
        "mbti_descriptions = {\"isfp\":\"fi, se, ni, te\",\n",
        "                     \"istp\":\"ti, se, ni, fe\",\n",
        "                     \"infp\":\"fi, ne, si, te\",\n",
        "                     \"infj\":\"ni, fe, ti, se\",\n",
        "                     \"intj\":\"ni, te, fi, se\",\n",
        "                     \"intp\":\"ti, ne, si, fe\",\n",
        "                     \"entp\":\"ne, ti, fe, si\",\n",
        "                     \"esfj\":\"fe, si, ne, ti\",\n",
        "                     \"isfj\":\"si, fe, ti, ne\",\n",
        "                     \"estj\":\"te, si, ne, fi\",\n",
        "                     \"estp\":\"se, ti, fe, ni\",\n",
        "                     \"entj\":\"te, ni, se, fi\",\n",
        "                     \"enfj\":\"fe, ni, se, ti\",\n",
        "                     \"esfp\":\"se, fi, te, ni\",\n",
        "                     \"enfp\":\"ne, fi, te, si\",\n",
        "                     \"istj\":\"si, te, fi, ne\"\n",
        "}\n",
        "#A second useful example of a dictionary\n",
        "mbti_percentage_population = {\"isfp\": 9,\n",
        "                     \"istp\": 5,\n",
        "                     \"infp\": 4,\n",
        "                     \"infj\": 2,\n",
        "                     \"intj\": 2,\n",
        "                     \"intp\": 3,\n",
        "                     \"entp\": 3,\n",
        "                     \"esfj\": 12,\n",
        "                     \"isfj\": 14,\n",
        "                     \"estj\": 9,\n",
        "                     \"estp\": 4,\n",
        "                     \"entj\": 2,\n",
        "                     \"enfj\": 3,\n",
        "                     \"esfp\": 9,\n",
        "                     \"enfp\": 8,\n",
        "                     \"istj\": 12\n",
        "}\n",
        "#Remeber the closing squiggly bracket that should be in line 39!"
      ],
      "execution_count": null,
      "outputs": []
    },
    {
      "cell_type": "markdown",
      "metadata": {
        "id": "xv1drCjKk5aU"
      },
      "source": [
        "- We can print a dictionary in a very similar way to other variables like we saw earlier, as shown in the video below.\n",
        "\n"
      ]
    },
    {
      "cell_type": "code",
      "metadata": {
        "cellView": "form",
        "colab": {
          "base_uri": "https://localhost:8080/",
          "height": 321
        },
        "id": "07YpKO7GRVz7",
        "outputId": "4f24217c-3ecf-44ce-ea9d-74aea373d483"
      },
      "source": [
        "#@title\n",
        "from IPython.display import YouTubeVideo\n",
        "YouTubeVideo('k-Kw3A-fdTw')"
      ],
      "execution_count": 16,
      "outputs": [
        {
          "output_type": "execute_result",
          "data": {
            "text/html": [
              "\n",
              "        <iframe\n",
              "            width=\"400\"\n",
              "            height=\"300\"\n",
              "            src=\"https://www.youtube.com/embed/k-Kw3A-fdTw\"\n",
              "            frameborder=\"0\"\n",
              "            allowfullscreen\n",
              "        ></iframe>\n",
              "        "
            ],
            "text/plain": [
              "<IPython.lib.display.YouTubeVideo at 0x7f858448b3d0>"
            ]
          },
          "metadata": {},
          "execution_count": 16
        }
      ]
    },
    {
      "cell_type": "markdown",
      "metadata": {
        "id": "Hs5ZGq-oxT-8"
      },
      "source": [
        "Q5 Write the corresponding code from the video. Print the mbti_descriptions dictionary to the screen"
      ]
    },
    {
      "cell_type": "code",
      "metadata": {
        "id": "EIbiadlqk6Cy"
      },
      "source": [
        "print()"
      ],
      "execution_count": null,
      "outputs": []
    },
    {
      "cell_type": "markdown",
      "metadata": {
        "id": "Ywc3aa9nm11b"
      },
      "source": [
        "- You can do some interesting things with dictionaries, (we'll see more as time goes on)\n",
        "- For example you can print out different parts of the dictionary by adding in a key\n",
        "\n",
        "Q6 Write the corresponding codes from the video above. Print the isfp description to the screen."
      ]
    },
    {
      "cell_type": "code",
      "metadata": {
        "id": "e3PncOTRm9pP"
      },
      "source": [
        "print(mbti_descriptions[\"\"])"
      ],
      "execution_count": null,
      "outputs": []
    },
    {
      "cell_type": "markdown",
      "metadata": {
        "id": "Qz1nn79ux7eE"
      },
      "source": [
        "Print the mbti percentage dictionary to the screen. Watch the video above for the answer."
      ]
    },
    {
      "cell_type": "code",
      "metadata": {
        "id": "FJ2c7tBHnA_J"
      },
      "source": [
        "print()"
      ],
      "execution_count": null,
      "outputs": []
    },
    {
      "cell_type": "markdown",
      "metadata": {
        "id": "g790S7f4yjJd"
      },
      "source": [
        "Print the isfp's percentage within the population in the same way you did using the mbti_description variable. Watch the above video for the answer."
      ]
    },
    {
      "cell_type": "code",
      "metadata": {
        "id": "2OIoTAsynAon"
      },
      "source": [
        "print()"
      ],
      "execution_count": null,
      "outputs": []
    },
    {
      "cell_type": "markdown",
      "metadata": {
        "id": "EHrb7VaynB33"
      },
      "source": [
        "##Doing Math in Python\n",
        "\n"
      ]
    },
    {
      "cell_type": "markdown",
      "metadata": {
        "id": "7TprkNM-RRzt"
      },
      "source": [
        "- Watch the video below to see how you do basic math in Python. \n",
        "- We can subtract the intuitives from the sensors from the mbti_percentage_population dictionary."
      ]
    },
    {
      "cell_type": "code",
      "metadata": {
        "cellView": "form",
        "colab": {
          "base_uri": "https://localhost:8080/",
          "height": 321
        },
        "id": "3DWp5tSHRX6U",
        "outputId": "5dccd3d6-a753-4b49-c328-054206d2e0db"
      },
      "source": [
        "#@title\n",
        "from IPython.display import YouTubeVideo\n",
        "YouTubeVideo('SSXgvau8B7I')"
      ],
      "execution_count": 17,
      "outputs": [
        {
          "output_type": "execute_result",
          "data": {
            "text/html": [
              "\n",
              "        <iframe\n",
              "            width=\"400\"\n",
              "            height=\"300\"\n",
              "            src=\"https://www.youtube.com/embed/SSXgvau8B7I\"\n",
              "            frameborder=\"0\"\n",
              "            allowfullscreen\n",
              "        ></iframe>\n",
              "        "
            ],
            "text/plain": [
              "<IPython.lib.display.YouTubeVideo at 0x7f85805e7790>"
            ]
          },
          "metadata": {},
          "execution_count": 17
        }
      ]
    },
    {
      "cell_type": "markdown",
      "metadata": {
        "id": "rIRVaz7xxNhE"
      },
      "source": [
        "Q7 Complete the corresponding code using the video above to find the total percentage of intuitives and sensors, and then perceivers and judgers."
      ]
    },
    {
      "cell_type": "code",
      "metadata": {
        "id": "iA2aKD_SnN63"
      },
      "source": [
        "#Let's find the total percentage of sensors and intuitives in the population\n",
        "intuitives = mbti_percentage_population[\"infp\"] + \\\n",
        "                    mbti_percentage_population[\"infj\"] + \\\n",
        "                    mbti_percentage_population[\"entj\"] + \\\n",
        "                    mbti_percentage_population[\"intj\"] + \\\n",
        "                    mbti_percentage_population[\"enfj\"] + \\\n",
        "                    mbti_percentage_population[\"enfp\"] + \\\n",
        "                    mbti_percentage_population[\"entp\"] + \\\n",
        "                    mbti_percentage_population[\"intp\"]\n",
        "\n",
        "print(\"intuitives:\")\n",
        "print(intuitives)\n",
        "\n",
        "sensors = 100 - ChangeMe\n",
        "\n",
        "print(\"sensors:\")\n",
        "print(sensors)\n",
        "print()\n",
        "#Let's find the total percentage of judgers (J) and Perceivers (P) in the population. Add in the rest of the addition and slash symbols\n",
        "judgers = mbti_percentage_population[\"isfj\"] + \\ \n",
        "                  mbti_percentage_population[\"infj\"] + \\\n",
        "                  mbti_percentage_population[\"entj\"]\n",
        "                  mbti_percentage_population[\"intj\"]\n",
        "                  mbti_percentage_population[\"enfj\"]\n",
        "                  mbti_percentage_population[\"esfj\"]\n",
        "                  mbti_percentage_population[\"estj\"]\n",
        "                  mbti_percentage_population[\"istj\"]\n",
        "\n",
        "print(\"judgers: \")\n",
        "print(judgers)\n",
        "\n",
        "perceivers = 100 - ChangeMe\n",
        "\n",
        "print(\"perceivers:\")\n",
        "print(perceivers)"
      ],
      "execution_count": null,
      "outputs": []
    },
    {
      "cell_type": "markdown",
      "metadata": {
        "id": "g10AGLMXR_iY"
      },
      "source": [
        "Complete the following code, and watch the same video above for answers."
      ]
    },
    {
      "cell_type": "code",
      "metadata": {
        "id": "DqFUjbRsnqYL"
      },
      "source": [
        "#Example of using the division symbol: the average percentage of a sensor and intuitive found in the population\n",
        "avgintuitive = intuitives / \n",
        "print()\n",
        "avgsensor = sensors / \n",
        "print()\n",
        "\n",
        "#Turning them back into their total percentage of the population, using multiplication\n",
        "print() #This is just to create a space between line 5 and 9\n",
        "print(avgintuitive * )\n",
        "print(avgsensor * 8)"
      ],
      "execution_count": null,
      "outputs": []
    },
    {
      "cell_type": "markdown",
      "metadata": {
        "id": "3DFvYzbqoGlU"
      },
      "source": [
        "##Printing items to the screen using Loops\n",
        "\n"
      ]
    },
    {
      "cell_type": "markdown",
      "metadata": {
        "id": "pRwDDFXrUJUM"
      },
      "source": [
        "Watch the video below to see how to print using loops instead of using the print function"
      ]
    },
    {
      "cell_type": "code",
      "metadata": {
        "cellView": "form",
        "colab": {
          "base_uri": "https://localhost:8080/",
          "height": 321
        },
        "id": "VJB6DZOwRaJE",
        "outputId": "d5744d14-7fe8-45c7-dfae-fc102f0fe733"
      },
      "source": [
        "#@title\n",
        "from IPython.display import YouTubeVideo\n",
        "YouTubeVideo('aRPDKPixeJI')"
      ],
      "execution_count": 19,
      "outputs": [
        {
          "output_type": "execute_result",
          "data": {
            "text/html": [
              "\n",
              "        <iframe\n",
              "            width=\"400\"\n",
              "            height=\"300\"\n",
              "            src=\"https://www.youtube.com/embed/aRPDKPixeJI\"\n",
              "            frameborder=\"0\"\n",
              "            allowfullscreen\n",
              "        ></iframe>\n",
              "        "
            ],
            "text/plain": [
              "<IPython.lib.display.YouTubeVideo at 0x7f85805931d0>"
            ]
          },
          "metadata": {},
          "execution_count": 19
        }
      ]
    },
    {
      "cell_type": "markdown",
      "metadata": {
        "id": "aa3QZZ1qxGJi"
      },
      "source": [
        "Q8 Write the corresponding code from the video"
      ]
    },
    {
      "cell_type": "code",
      "metadata": {
        "id": "7tEho49bopy2"
      },
      "source": [
        "#Review of one way to print out the contents a list\n",
        "mbti_types = [\"isfp\", \"istp\", \"infp\", \"infj\", \"intj\", \"intp\", \"entp\", \"esfj\", \"isfj\", \"estj\", \"estp\", \"istj\", \"entj\", \"enfp\", \"entj\", \"enfj\"]\n",
        "\n",
        "print(mbti_types)\n",
        "#Create a space between the two versions using an empty print function\n",
        "print()\n",
        "#What happens when you print the contents of a list using a loop\n",
        "for personality in :\n",
        "  print(personality)"
      ],
      "execution_count": null,
      "outputs": []
    },
    {
      "cell_type": "markdown",
      "metadata": {
        "id": "XG9-6MAapHgO"
      },
      "source": [
        "##Counting items in a list using loops\n",
        "\n"
      ]
    },
    {
      "cell_type": "markdown",
      "metadata": {
        "id": "ycTyvDKZUVwE"
      },
      "source": [
        "Watch the video below to see why using loops to count items is useful"
      ]
    },
    {
      "cell_type": "code",
      "metadata": {
        "cellView": "form",
        "colab": {
          "base_uri": "https://localhost:8080/",
          "height": 321
        },
        "id": "gcAfGU52Rcrc",
        "outputId": "7c92094b-68cd-45c3-cc41-4e55226fbc8b"
      },
      "source": [
        "#@title\n",
        "from IPython.display import YouTubeVideo\n",
        "YouTubeVideo('JGmQ0_s9zK4')"
      ],
      "execution_count": 20,
      "outputs": [
        {
          "output_type": "execute_result",
          "data": {
            "text/html": [
              "\n",
              "        <iframe\n",
              "            width=\"400\"\n",
              "            height=\"300\"\n",
              "            src=\"https://www.youtube.com/embed/JGmQ0_s9zK4\"\n",
              "            frameborder=\"0\"\n",
              "            allowfullscreen\n",
              "        ></iframe>\n",
              "        "
            ],
            "text/plain": [
              "<IPython.lib.display.YouTubeVideo at 0x7f858057de10>"
            ],
            "image/jpeg": "[encoded data removed]"
          },
          "metadata": {},
          "execution_count": 20
        }
      ]
    },
    {
      "cell_type": "markdown",
      "metadata": {
        "id": "cKWhPOcqxAXq"
      },
      "source": [
        "Q9 Write the corresponding code from the video"
      ]
    },
    {
      "cell_type": "code",
      "metadata": {
        "id": "ei_KjIEApNtd"
      },
      "source": [
        "intuitives = [\"infp\", \"infj\", \"entj\", \"intj\", \"enfj\", \"enfp\", \"entp\", \"intp\"]\n",
        "\n",
        "total_intuitives =\n",
        "\n",
        "for personality in :\n",
        "  total_intuitives = + 1\n",
        "\n",
        "\n",
        "print(\"Total Intuitives: \", total_intuitives)"
      ],
      "execution_count": null,
      "outputs": []
    },
    {
      "cell_type": "markdown",
      "metadata": {
        "id": "BQ24lILqph3w"
      },
      "source": [
        "### Dictionaries and Loops\n",
        "\n",
        "- Watch what happens when we try to do a loop through a dictionary\n",
        "\n",
        "Q10 Write the corresponding code from the video"
      ]
    },
    {
      "cell_type": "code",
      "metadata": {
        "id": "VoygpVXMpsa8"
      },
      "source": [
        "for :\n",
        "    print()"
      ],
      "execution_count": null,
      "outputs": []
    },
    {
      "cell_type": "markdown",
      "metadata": {
        "id": "dxQljP-Op5e8"
      },
      "source": [
        "- Since dictionaries are more complex, there are many ways to interact with them\n",
        "- We add .values() to get the values of the dictionary\n",
        "- We add .keys() to get the keys of the dictionary\n",
        "\n",
        "Q11 Write the corresponding code from the video"
      ]
    },
    {
      "cell_type": "code",
      "metadata": {
        "id": "pvS9ieOhqAhD"
      },
      "source": [
        "#print all the items in our Dictionary\n",
        "\n",
        "for :\n",
        "    print()"
      ],
      "execution_count": null,
      "outputs": []
    },
    {
      "cell_type": "code",
      "metadata": {
        "id": "nsOCVjVUqvG6"
      },
      "source": [
        "# print out the keys in our Dictionary\n",
        "\n",
        "for :\n",
        "    print()"
      ],
      "execution_count": null,
      "outputs": []
    },
    {
      "cell_type": "markdown",
      "metadata": {
        "id": "ByZ7Xi7oq__G"
      },
      "source": [
        "## More symbols to use for doing Conditionals\n",
        "\n",
        "- When we want to run a piece of code only if something is true\n",
        "- We can compare with the following:\n",
        "\n",
        "        ==\n",
        "        >=\n",
        "        <=\n",
        "        <\n",
        "        >\n",
        "        !="
      ]
    },
    {
      "cell_type": "markdown",
      "metadata": {
        "id": "_aoWTk1vUePc"
      },
      "source": [
        "Watch the video below to see how the other conditionals listed above can be used."
      ]
    },
    {
      "cell_type": "code",
      "metadata": {
        "cellView": "form",
        "colab": {
          "base_uri": "https://localhost:8080/",
          "height": 321
        },
        "id": "ITuPR_fLRgG8",
        "outputId": "9946c928-daf2-4ddc-a2de-f4e25139c4dd"
      },
      "source": [
        "#@title\n",
        "from IPython.display import YouTubeVideo\n",
        "YouTubeVideo('Sh0TaFCn_Ak')"
      ],
      "execution_count": 24,
      "outputs": [
        {
          "output_type": "execute_result",
          "data": {
            "text/html": [
              "\n",
              "        <iframe\n",
              "            width=\"400\"\n",
              "            height=\"300\"\n",
              "            src=\"https://www.youtube.com/embed/Sh0TaFCn_Ak\"\n",
              "            frameborder=\"0\"\n",
              "            allowfullscreen\n",
              "        ></iframe>\n",
              "        "
            ],
            "text/plain": [
              "<IPython.lib.display.YouTubeVideo at 0x7f85805d7b50>"
            ],
            "image/jpeg": "[encoded data removed]"
          },
          "metadata": {},
          "execution_count": 24
        }
      ]
    },
    {
      "cell_type": "markdown",
      "metadata": {
        "id": "-SyIlsB5rF7X"
      },
      "source": [
        "- Let's pretend that anything less than 4 percent of the population is rare. Let' make a conditional that prints out if an **intp** is rare\n",
        "\n",
        "Q12 Write the code from the corresponding code in the video"
      ]
    },
    {
      "cell_type": "code",
      "metadata": {
        "id": "2o7dABg4rPlQ"
      },
      "source": [
        "if mbti_percentage_population[] < :\n",
        "\n",
        "  print(\"\")\n",
        "else:\n",
        "  print(\"\")"
      ],
      "execution_count": null,
      "outputs": []
    },
    {
      "cell_type": "markdown",
      "metadata": {
        "id": "SP4HIR1SrggN"
      },
      "source": [
        "## Combining with boolean\n",
        "\n",
        "- Sometimes we want to combine conditionals because we want to test more complicated things\n",
        "- We can do this with the following:\n",
        "    - and\n",
        "    - or\n",
        "    - not\n",
        "- Here's a mini version of the mbti test using the 'and' statement in the video below\n",
        "\n"
      ]
    },
    {
      "cell_type": "code",
      "metadata": {
        "cellView": "form",
        "colab": {
          "base_uri": "https://localhost:8080/",
          "height": 321
        },
        "id": "gDo7rEbBRiIk",
        "outputId": "91bcf603-6e0a-4d45-c9ad-5e3ee9c9cc4f"
      },
      "source": [
        "#@title\n",
        "from IPython.display import YouTubeVideo\n",
        "YouTubeVideo('eXEyXcZniIU')"
      ],
      "execution_count": 22,
      "outputs": [
        {
          "output_type": "execute_result",
          "data": {
            "text/html": [
              "\n",
              "        <iframe\n",
              "            width=\"400\"\n",
              "            height=\"300\"\n",
              "            src=\"https://www.youtube.com/embed/eXEyXcZniIU\"\n",
              "            frameborder=\"0\"\n",
              "            allowfullscreen\n",
              "        ></iframe>\n",
              "        "
            ],
            "text/plain": [
              "<IPython.lib.display.YouTubeVideo at 0x7f85805e7050>"
            ]
          },
          "metadata": {},
          "execution_count": 22
        }
      ]
    },
    {
      "cell_type": "markdown",
      "metadata": {
        "id": "0BIuLLM-w2MH"
      },
      "source": [
        "Q13 Complete the corresponding code using the video above to create a mini mbti quiz"
      ]
    },
    {
      "cell_type": "code",
      "metadata": {
        "id": "YdyQgc5Prtzk"
      },
      "source": [
        "Question_1 = input(\"Type a, b, or c, to answer the following question: I try not to draw attention to myself. a-strongly agree, b-neutral, c-strongly disagree\")\n",
        "\n",
        "Question_2 = input(\"Type a, b, or c, to answer the following question: I have a vivid imagination. a-strongly agree, b-neutral, c-strongly disagree\")\n",
        "\n",
        "if Question_1 == and Question_2 == :\n",
        "  print(\"\")\n",
        "  print(\"\")\n",
        "if Question_1 == and Question_2 ==:\n",
        "  print()\n",
        "  print()\n",
        "# There aren't any possibilities for Q1 = a and Q2 = c in this mini test \n",
        "# There aren't any possibilities for Q1 = b and Q2 = b in this mini test\n",
        "if Question_1 == and Question_2 ==:\n",
        "  print()\n",
        "  print()\n",
        "if Question_1 == and Question_2 ==:\n",
        "  print()\n",
        "  print()\n",
        "if Question_1 == and Question_2 ==:\n",
        "  print()\n",
        "  print()\n",
        "if Question_1 == and Question_2 ==:\n",
        "  print()\n",
        "  print()\n",
        "if Question_1 == and Question_2 ==:\n",
        "  print()\n",
        "  print()"
      ],
      "execution_count": null,
      "outputs": []
    },
    {
      "cell_type": "markdown",
      "metadata": {
        "id": "-MxjEcUJtUx1"
      },
      "source": [
        "## Functions\n",
        "\n",
        "- Functions are bits of code that do a certain task in a certain way\n",
        "- We saw this earlier with the print() function\n",
        "- We also just used the int() function in our game\n",
        "- some functions need arguments or paramaters. We pass those in the the round brackets. EG. we pass what string variable we want turned into an integer with the int() function.\n",
        "- we can create our own functions too"
      ]
    },
    {
      "cell_type": "markdown",
      "metadata": {
        "id": "Kwx0K4SUU5_s"
      },
      "source": [
        "Watch the video below to learn about functions"
      ]
    },
    {
      "cell_type": "code",
      "metadata": {
        "cellView": "form",
        "colab": {
          "base_uri": "https://localhost:8080/",
          "height": 321
        },
        "id": "J3RLxrDkRkVE",
        "outputId": "7f1127d0-0b12-46eb-8f97-dfc6a56d1251"
      },
      "source": [
        "#@title\n",
        "from IPython.display import YouTubeVideo\n",
        "YouTubeVideo('XdCFX1t7DlI')"
      ],
      "execution_count": 23,
      "outputs": [
        {
          "output_type": "execute_result",
          "data": {
            "text/html": [
              "\n",
              "        <iframe\n",
              "            width=\"400\"\n",
              "            height=\"300\"\n",
              "            src=\"https://www.youtube.com/embed/XdCFX1t7DlI\"\n",
              "            frameborder=\"0\"\n",
              "            allowfullscreen\n",
              "        ></iframe>\n",
              "        "
            ],
            "text/plain": [
              "<IPython.lib.display.YouTubeVideo at 0x7f8580a348d0>"
            ],
            "image/jpeg": "[encoded data removed]"
          },
          "metadata": {},
          "execution_count": 23
        }
      ]
    },
    {
      "cell_type": "markdown",
      "metadata": {
        "id": "Yzevm3fftceQ"
      },
      "source": [
        "- The function below will change the values to decimals from percentage\n",
        "- Statements can get pretty long if you call lots of functions in them\n",
        "- Here we find the isfp's percentage converted to decimal and print it\n",
        "\n",
        "\n"
      ]
    },
    {
      "cell_type": "markdown",
      "metadata": {
        "id": "rzSnd4NAwvWF"
      },
      "source": [
        "Q14 Write the corresponding code from the video"
      ]
    },
    {
      "cell_type": "code",
      "metadata": {
        "id": "NgoLPNS1ttsZ"
      },
      "source": [
        "def (perc):\n",
        "  return\n",
        "\n",
        "print(perc_to_dec(mbti_percentage_population[\"\"]))"
      ],
      "execution_count": null,
      "outputs": []
    }
  ]
}