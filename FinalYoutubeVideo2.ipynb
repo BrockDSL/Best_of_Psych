{
  "nbformat": 4,
  "nbformat_minor": 0,
  "metadata": {
    "colab": {
      "name": "FinalYoutubeVideo2.ipynb",
      "provenance": [],
      "collapsed_sections": []
    },
    "kernelspec": {
      "name": "python3",
      "display_name": "Python 3"
    },
    "language_info": {
      "name": "python"
    }
  },
  "cells": [
    {
      "cell_type": "markdown",
      "metadata": {
        "id": "dvXiNvArVJeE"
      },
      "source": [
        "![DSL_logo](https://github.com/BrockDSL/Intro_to_Python_Workshop/blob/master/dsl_logo.png?raw=1) \n",
        " \n",
        "\n",
        "![PythonPsycology](http://www.pygaze.org/wp-content/uploads/2016/10/Dalmaijer_2016_PEP-1024x356.jpg) \n",
        "\n",
        "#Data Science"
      ]
    },
    {
      "cell_type": "markdown",
      "source": [
        "The purpose of this notebook is to allow you to learn Data Science using Python at your own pace, using the embedded Youtube videos to learn more about each Python code, and to get the answers for the exercises in this notebook."
      ],
      "metadata": {
        "id": "wtrxN9pKZbj3"
      }
    },
    {
      "cell_type": "markdown",
      "source": [
        "###Watch the introductory video below"
      ],
      "metadata": {
        "id": "X5xhsyu9Z2ZE"
      }
    },
    {
      "cell_type": "code",
      "source": [
        "#@title\n",
        "from IPython.display import YouTubeVideo\n",
        "YouTubeVideo('AYp6qf7kOFc')"
      ],
      "metadata": {
        "colab": {
          "base_uri": "https://localhost:8080/",
          "height": 321
        },
        "id": "ArBDULhiY9it",
        "outputId": "69bc8340-dc56-453f-9511-31af917ec089"
      },
      "execution_count": null,
      "outputs": [
        {
          "output_type": "execute_result",
          "data": {
            "text/html": [
              "\n",
              "        <iframe\n",
              "            width=\"400\"\n",
              "            height=\"300\"\n",
              "            src=\"https://www.youtube.com/embed/AYp6qf7kOFc\"\n",
              "            frameborder=\"0\"\n",
              "            allowfullscreen\n",
              "        ></iframe>\n",
              "        "
            ],
            "text/plain": [
              "<IPython.lib.display.YouTubeVideo at 0x7f3413181190>"
            ],
            "image/jpeg": "[encoded data removed]"
          },
          "metadata": {},
          "execution_count": 6
        }
      ]
    },
    {
      "cell_type": "markdown",
      "metadata": {
        "id": "gOS-7CkIwfnm"
      },
      "source": [
        "Watch the video below for information and answers to Q1 "
      ]
    },
    {
      "cell_type": "code",
      "source": [
        "#@title\n",
        "from IPython.display import YouTubeVideo\n",
        "YouTubeVideo('wX2NdTl-e7Q')"
      ],
      "metadata": {
        "colab": {
          "base_uri": "https://localhost:8080/",
          "height": 321
        },
        "cellView": "form",
        "id": "kq4t6juPY_kl",
        "outputId": "5a4f5c93-5af9-49c6-bd14-7a5d26eb29f8"
      },
      "execution_count": null,
      "outputs": [
        {
          "output_type": "execute_result",
          "data": {
            "text/html": [
              "\n",
              "        <iframe\n",
              "            width=\"400\"\n",
              "            height=\"300\"\n",
              "            src=\"https://www.youtube.com/embed/wX2NdTl-e7Q\"\n",
              "            frameborder=\"0\"\n",
              "            allowfullscreen\n",
              "        ></iframe>\n",
              "        "
            ],
            "text/plain": [
              "<IPython.lib.display.YouTubeVideo at 0x7f3417025450>"
            ]
          },
          "metadata": {},
          "execution_count": 1
        }
      ]
    },
    {
      "cell_type": "markdown",
      "metadata": {
        "id": "kCwk4GT1VQCq"
      },
      "source": [
        "The `str` library is so important that it is included all the time Python runs.\n",
        "\n",
        "Q1 Fill in the corresponding code from the video"
      ]
    },
    {
      "cell_type": "code",
      "metadata": {
        "id": "Fc3GBctsVdLq"
      },
      "source": [
        "all_caps = \"HELLO PYTHON USER\"\n",
        "\n",
        "# add .lower() to the following line so that the variable represented by all_caps prints in all lowercase\n",
        "print(all_caps)\n",
        "# add .title() to the following line to capitalize the first letter of each word, and the rest lowercase\n",
        "print(all_caps)\n",
        "# add .capitalize() to the following line to capitalize only the first letter of the sentence, and the rest lowercase\n",
        "print(all_caps)"
      ],
      "execution_count": null,
      "outputs": []
    },
    {
      "cell_type": "markdown",
      "metadata": {
        "id": "PfWoZjmaVv-A"
      },
      "source": [
        "# EXERCISE: Analyzing scores from a Big 5 Personality Dataset\n",
        "\n",
        "We'll be focusing on data analysis for the rest of this workshop so let's import some libraries: [pandas](https://pandas.pydata.org/) and [numpy](https://pythonistaplanet.com/numpy/)\n",
        "\n",
        "We will be analyzing a dataset composed of about 315 scores of the Big 5 Personality test.\n",
        "\n",
        "You could use Excel to do some of this analysis true, but if you have a large dataset, using Excel is going to be difficult to work with."
      ]
    },
    {
      "cell_type": "markdown",
      "source": [
        "Watch the video below to learn about each column of the Big 5 Personality participants' test results. We will be using the column names from this dataset throughout the tutorial to extract data, so you want to know why each variable is contextually significant."
      ],
      "metadata": {
        "id": "UotAgXj-aHIq"
      }
    },
    {
      "cell_type": "code",
      "source": [
        "#@title\n",
        "from IPython.display import YouTubeVideo\n",
        "YouTubeVideo('0QwuR9pUd2w')"
      ],
      "metadata": {
        "colab": {
          "base_uri": "https://localhost:8080/",
          "height": 321
        },
        "cellView": "form",
        "id": "E-rWN7pSZBL9",
        "outputId": "957d004a-1bab-425f-98a5-7616c0e9214e"
      },
      "execution_count": null,
      "outputs": [
        {
          "output_type": "execute_result",
          "data": {
            "text/html": [
              "\n",
              "        <iframe\n",
              "            width=\"400\"\n",
              "            height=\"300\"\n",
              "            src=\"https://www.youtube.com/embed/0QwuR9pUd2w\"\n",
              "            frameborder=\"0\"\n",
              "            allowfullscreen\n",
              "        ></iframe>\n",
              "        "
            ],
            "text/plain": [
              "<IPython.lib.display.YouTubeVideo at 0x7f3413181250>"
            ]
          },
          "metadata": {},
          "execution_count": 4
        }
      ]
    },
    {
      "cell_type": "markdown",
      "metadata": {
        "id": "Krt7nrCYVxjA"
      },
      "source": [
        "![excel preview](https://raw.githubusercontent.com/BrockDSL/BrockPsych_Python_Collaboration_2021/master/psycscreenshot.PNG) \n",
        "\n",
        "\n",
        "There are 315 rows of big 5 personality score data - this is just a sample view\n",
        "\n",
        "The personality dataset has 8 columns \n",
        "\n",
        "-Gender\t\n",
        "-Age\t\n",
        "-Openness\t\n",
        "-Neuroticism\t\n",
        "-Conscientiousness\t\n",
        "-Agreeableness\t\n",
        "-Extraversion\t\n",
        "-Personality\n",
        "\n",
        "The rows represent different people who took the big 5 test\n",
        "\n",
        "The personality column is the one we are interested in, and we want to analyze the data to see how the other columns (I.e. personality traits) are affecting the overall personality.  "
      ]
    },
    {
      "cell_type": "markdown",
      "source": [
        "Watch the video below to see how to load the required Python libraries, and how to upload the required csv file for the exercises."
      ],
      "metadata": {
        "id": "e2A8m8MmamKu"
      }
    },
    {
      "cell_type": "code",
      "source": [
        "#@title\n",
        "from IPython.display import YouTubeVideo\n",
        "YouTubeVideo('-iWUO5NRRUc')"
      ],
      "metadata": {
        "colab": {
          "base_uri": "https://localhost:8080/",
          "height": 321
        },
        "cellView": "form",
        "id": "hKQLiBl5ZC9-",
        "outputId": "91c09e00-771c-4c7b-b2c3-4d3a004403d6"
      },
      "execution_count": null,
      "outputs": [
        {
          "output_type": "execute_result",
          "data": {
            "text/html": [
              "\n",
              "        <iframe\n",
              "            width=\"400\"\n",
              "            height=\"300\"\n",
              "            src=\"https://www.youtube.com/embed/-iWUO5NRRUc\"\n",
              "            frameborder=\"0\"\n",
              "            allowfullscreen\n",
              "        ></iframe>\n",
              "        "
            ],
            "text/plain": [
              "<IPython.lib.display.YouTubeVideo at 0x7f34131594d0>"
            ]
          },
          "metadata": {},
          "execution_count": 5
        }
      ]
    },
    {
      "cell_type": "markdown",
      "metadata": {
        "id": "ZSgMcQxlV7lt"
      },
      "source": [
        "##Loading the required Python Libraries\n",
        "\n",
        "Q2 Type in the corresponding code from the video"
      ]
    },
    {
      "cell_type": "code",
      "metadata": {
        "id": "kFDJh_-kWG9r"
      },
      "source": [
        "#Load the statistics library\n",
        "import statistics\n",
        "\n",
        "#Load the math library\n",
        "import math\n",
        "\n",
        "#Load the Library Pandas, that works with data\n",
        "import pandas as pd\n",
        "\n",
        "#Load the Library Numpy, that works with numerical calculations\n",
        "import numpy as np\n",
        "\n",
        "#These two libraries are often used together!"
      ],
      "execution_count": null,
      "outputs": []
    },
    {
      "cell_type": "markdown",
      "metadata": {
        "id": "92O8lRvSWTcv"
      },
      "source": [
        "###Uploading the csv file from your computer\n",
        "\n",
        "Q3 Type in the corresponding code from the video. Download the csv file from:\n",
        "https://www.kaggle.com/brsdincer/personality-scale-analysis?select=psyc.csv"
      ]
    },
    {
      "cell_type": "code",
      "metadata": {
        "id": "4bkjFoYHWadn"
      },
      "source": [
        "from google.colab import files\n",
        "uploaded = files.upload()\n",
        "\n",
        "#pandas is already loaded, so you can skip importing it\n",
        "\n",
        "import io\n",
        "\n",
        "df = pd.read_csv(io.StringIO(uploaded['psyc.csv'].decode('utf-8')))"
      ],
      "execution_count": null,
      "outputs": []
    },
    {
      "cell_type": "markdown",
      "metadata": {
        "id": "Uj0j1rBlWoqs"
      },
      "source": [
        "###Printing the first 10 rows of data to the screen\n",
        "\n",
        "Q4 Type in the corresponding code from the video"
      ]
    },
    {
      "cell_type": "code",
      "metadata": {
        "id": "xM4Cjxq3WuPx"
      },
      "source": [
        "#List the column names so we can use them as variables \n",
        "df.columns = [\"gender\",\"age\",\"openness\",\"neuroticism\",\"conscientiousness\",\"agreeableness\",\"extraversion\",\"Personality\"] \n",
        "\n",
        "df.columns = df.columns.str.title()\n",
        "\n",
        "df.head(10)"
      ],
      "execution_count": null,
      "outputs": []
    },
    {
      "cell_type": "markdown",
      "metadata": {
        "id": "Ss7Yq-vMW5QJ"
      },
      "source": [
        "##The describe function\n",
        "\n",
        "Q5 Type in the corresponding code from the video to apply the describe function to the dataset"
      ]
    },
    {
      "cell_type": "code",
      "metadata": {
        "id": "f3_8u8zIW-Jk"
      },
      "source": [
        ""
      ],
      "execution_count": null,
      "outputs": []
    },
    {
      "cell_type": "markdown",
      "metadata": {
        "id": "2nwL4F7a1n6B"
      },
      "source": [
        "Watch the Video below for instructions on the next section on the Groupby function, and to get the answers for the questions on GroupBy"
      ]
    },
    {
      "cell_type": "code",
      "source": [
        "#@title\n",
        "from IPython.display import YouTubeVideo\n",
        "YouTubeVideo('TaTkh6WKJbI')"
      ],
      "metadata": {
        "id": "283L2czDZGCV",
        "colab": {
          "base_uri": "https://localhost:8080/",
          "height": 321
        },
        "cellView": "form",
        "outputId": "bf7072b5-0bec-424e-85d9-966d5a5abc8e"
      },
      "execution_count": 7,
      "outputs": [
        {
          "output_type": "execute_result",
          "data": {
            "text/html": [
              "\n",
              "        <iframe\n",
              "            width=\"400\"\n",
              "            height=\"300\"\n",
              "            src=\"https://www.youtube.com/embed/TaTkh6WKJbI\"\n",
              "            frameborder=\"0\"\n",
              "            allowfullscreen\n",
              "        ></iframe>\n",
              "        "
            ],
            "text/plain": [
              "<IPython.lib.display.YouTubeVideo at 0x7f34135cdcd0>"
            ]
          },
          "metadata": {},
          "execution_count": 7
        }
      ]
    },
    {
      "cell_type": "markdown",
      "metadata": {
        "id": "Cn64lpsTXB3c"
      },
      "source": [
        "## Grouping and  Counting\n",
        "\n",
        "- We also need to gather the entries we need by grouping them together with the `.groupby()` function. We can chain these things together to ask very specific questions of the data.\n",
        "- We pass what column we'd like to group the data by\n",
        "- We add `.count()` if we are just interested int the counts and not the dataframe\n",
        "\n",
        "Q6 Type in the corresponding code from the video"
      ]
    },
    {
      "cell_type": "code",
      "metadata": {
        "id": "InXZpNrsXFnU"
      },
      "source": [
        "df.groupby('')"
      ],
      "execution_count": null,
      "outputs": []
    },
    {
      "cell_type": "code",
      "metadata": {
        "id": "vlD4u8b-XGHM"
      },
      "source": [
        "df.groupby(\"\").changeMe()"
      ],
      "execution_count": null,
      "outputs": []
    },
    {
      "cell_type": "markdown",
      "metadata": {
        "id": "pEE2kVRWXK_7"
      },
      "source": [
        "Example 2: How many people are female in this dataset?\n",
        "\n",
        "Q7 Type in the corresponding code from the video"
      ]
    },
    {
      "cell_type": "code",
      "metadata": {
        "id": "rTK9VK3NXT4D"
      },
      "source": [
        "df.groupby(\"\").count() "
      ],
      "execution_count": null,
      "outputs": []
    },
    {
      "cell_type": "markdown",
      "metadata": {
        "id": "S_yZpp4SXbtz"
      },
      "source": [
        "Example 3: How many different ages are in the dataset?\n",
        "\n",
        "Q8 Type in the corresponding code from the video"
      ]
    },
    {
      "cell_type": "code",
      "metadata": {
        "id": "5ewlVKMXXk_L"
      },
      "source": [
        "df.groupby(\"Age\").count()"
      ],
      "execution_count": null,
      "outputs": []
    },
    {
      "cell_type": "markdown",
      "metadata": {
        "id": "G5eFHLUezoiB"
      },
      "source": [
        "Examine applying other functions to groupby besides the count() function:"
      ]
    },
    {
      "cell_type": "code",
      "metadata": {
        "id": "HBiyiTTgXq2C"
      },
      "source": [
        "df.groupby('Personality').mean()"
      ],
      "execution_count": null,
      "outputs": []
    },
    {
      "cell_type": "markdown",
      "metadata": {
        "id": "Ug3XJrd9Xvd6"
      },
      "source": [
        "## Grouping and applying functions\n",
        "\n",
        "- If we want to do some math on the data we need to cluster it together a bit. We use `.groupby()` and then apply our mathematical functions to the result\n",
        "- Here we'll use the following 3 functions:\n",
        " - `mean()` finds the arithmetic mean of the data\n",
        " - `max()` finds the largest occurence of data in that column\n",
        " - `min()` finds the smallest occurennce of data in that column\n",
        "\n"
      ]
    },
    {
      "cell_type": "markdown",
      "metadata": {
        "id": "cinTWJmqX8y5"
      },
      "source": [
        "What is the average extroversion score of people with a personality label of 'extroverted'?\n",
        "\n",
        " Q9 Type in the corresponding code from the video"
      ]
    },
    {
      "cell_type": "code",
      "metadata": {
        "id": "UbJWoniQYC3x"
      },
      "source": [
        "df.groupby(\"ChangeMe\", as_index=False)[\"ChangeMe\"].mean()"
      ],
      "execution_count": null,
      "outputs": []
    },
    {
      "cell_type": "markdown",
      "metadata": {
        "id": "PZfwscJWYHWZ"
      },
      "source": [
        "What is the average Age of people of each Neuroticism score?\n",
        "\n",
        "Q10 Type in the corresponding code from the video"
      ]
    },
    {
      "cell_type": "code",
      "metadata": {
        "id": "Yybf93G_YPLJ"
      },
      "source": [
        "df.groupby(\"ChangeMe\", as_index=False)[\"Age\"].mean().rename(columns={'Age': 'Average Age'})"
      ],
      "execution_count": null,
      "outputs": []
    },
    {
      "cell_type": "markdown",
      "metadata": {
        "id": "EGNpUvTv4_ES"
      },
      "source": [
        "Watch the Video below for instructions and answerd to questions for the next section on how to sort data in ascending and descending order"
      ]
    },
    {
      "cell_type": "code",
      "source": [
        "#@title\n",
        "from IPython.display import YouTubeVideo\n",
        "YouTubeVideo('7qP5skzA1ck')"
      ],
      "metadata": {
        "id": "Y0fk7-ppZI2v",
        "colab": {
          "base_uri": "https://localhost:8080/",
          "height": 321
        },
        "cellView": "form",
        "outputId": "422ca5f6-f5b2-4843-cfa8-1acf7f497964"
      },
      "execution_count": 8,
      "outputs": [
        {
          "output_type": "execute_result",
          "data": {
            "text/html": [
              "\n",
              "        <iframe\n",
              "            width=\"400\"\n",
              "            height=\"300\"\n",
              "            src=\"https://www.youtube.com/embed/7qP5skzA1ck\"\n",
              "            frameborder=\"0\"\n",
              "            allowfullscreen\n",
              "        ></iframe>\n",
              "        "
            ],
            "text/plain": [
              "<IPython.lib.display.YouTubeVideo at 0x7f341318a410>"
            ]
          },
          "metadata": {},
          "execution_count": 8
        }
      ]
    },
    {
      "cell_type": "markdown",
      "metadata": {
        "id": "Q6FOzd0xYTHI"
      },
      "source": [
        "# Sorting & Multi line commands "
      ]
    },
    {
      "cell_type": "markdown",
      "metadata": {
        "id": "p_LQ0IdnYZUY"
      },
      "source": [
        "- We can apply sorting to our dataframe actions by using the funciton `.sort_values()` \n",
        "\n",
        "- We need to give what column we'd like to sort it with `by =` \n",
        "\n",
        "- We also need to tell it to display it in an increase way `ascending = False`"
      ]
    },
    {
      "cell_type": "markdown",
      "metadata": {
        "id": "kBVaFzIsYeHo"
      },
      "source": [
        "What Agreeableness score has the most people assigned to it? Here we do it in two steps\n",
        "\n",
        "Q11 Type in the corresponding code from th video"
      ]
    },
    {
      "cell_type": "code",
      "metadata": {
        "id": "LFBK1GSAYjdS"
      },
      "source": [
        "by_Agreeableness = df.groupby(\"\").count() \n",
        "\n",
        "sorted_Agreeableness = by_Agreeableness.sort_values(by = \"\",ascending = False) \n",
        "\n",
        "sorted_Agreeableness"
      ],
      "execution_count": null,
      "outputs": []
    },
    {
      "cell_type": "markdown",
      "metadata": {
        "id": "1KHHn2ilYnvS"
      },
      "source": [
        "We could also do it in one step: \n",
        "\n",
        "Q12 Type in the corresponding code from the video"
      ]
    },
    {
      "cell_type": "code",
      "metadata": {
        "id": "qr6ir5ggYt9K"
      },
      "source": [
        "df.groupby(\"\").count().sort_values(by = \"\",ascending = False) "
      ],
      "execution_count": null,
      "outputs": []
    },
    {
      "cell_type": "markdown",
      "metadata": {
        "id": "IppXakDN6aEO"
      },
      "source": [
        "Watch the Video below for information on the next section on Unique Entries and Value Counts"
      ]
    },
    {
      "cell_type": "code",
      "source": [
        "#@title\n",
        "from IPython.display import YouTubeVideo\n",
        "YouTubeVideo('orsmwmx-UyM')"
      ],
      "metadata": {
        "id": "o80SXHV0ZK5H",
        "colab": {
          "base_uri": "https://localhost:8080/",
          "height": 321
        },
        "cellView": "form",
        "outputId": "d9667d1b-42b2-4ac1-983c-1d7028288854"
      },
      "execution_count": 10,
      "outputs": [
        {
          "output_type": "execute_result",
          "data": {
            "text/html": [
              "\n",
              "        <iframe\n",
              "            width=\"400\"\n",
              "            height=\"300\"\n",
              "            src=\"https://www.youtube.com/embed/orsmwmx-UyM\"\n",
              "            frameborder=\"0\"\n",
              "            allowfullscreen\n",
              "        ></iframe>\n",
              "        "
            ],
            "text/plain": [
              "<IPython.lib.display.YouTubeVideo at 0x7f341316e890>"
            ]
          },
          "metadata": {},
          "execution_count": 10
        }
      ]
    },
    {
      "cell_type": "markdown",
      "metadata": {
        "id": "VxO2hpTbY3-G"
      },
      "source": [
        "## Unique entries & values counts \n",
        "\n",
        "- Here we use `.unique()` to only give the first instances of the item. Results are returned as a list, which is useful for us later \n",
        "\n",
        "- This is useful for seeing how many values are in a categorical column \n",
        "\n",
        "Q13 Type in the corresponding code from the video"
      ]
    },
    {
      "cell_type": "code",
      "metadata": {
        "id": "3Tlk6ZgRY_41"
      },
      "source": [
        "df[\"\"].unique()"
      ],
      "execution_count": null,
      "outputs": []
    },
    {
      "cell_type": "markdown",
      "metadata": {
        "id": "FRRrNv6dZEi4"
      },
      "source": [
        "What are unique values for the Age field? \n",
        "\n",
        "Q14 type in the corresponding code from the video"
      ]
    },
    {
      "cell_type": "code",
      "metadata": {
        "id": "DCLbDCj5ZMhA"
      },
      "source": [
        "df[\"\"].unique() "
      ],
      "execution_count": null,
      "outputs": []
    },
    {
      "cell_type": "markdown",
      "metadata": {
        "id": "V850nM4YZNRQ"
      },
      "source": [
        "- To get total number of unique values and frequency in the data we use `value_counts()' \n",
        "\n",
        "Q15 Type in the corresponding code from the video"
      ]
    },
    {
      "cell_type": "code",
      "metadata": {
        "id": "wgu7_92SZYaU"
      },
      "source": [
        "df[\"\"].value_counts()"
      ],
      "execution_count": null,
      "outputs": []
    },
    {
      "cell_type": "markdown",
      "metadata": {
        "id": "IwboigEm6-l8"
      },
      "source": [
        "Watch the Video below for the next section on Selecting Subsets of Data"
      ]
    },
    {
      "cell_type": "code",
      "source": [
        "#@title\n",
        "from IPython.display import YouTubeVideo\n",
        "YouTubeVideo('kA8PUYwiFFo')"
      ],
      "metadata": {
        "id": "4PuLBoLUZNlX",
        "colab": {
          "base_uri": "https://localhost:8080/",
          "height": 321
        },
        "cellView": "form",
        "outputId": "75ed4d87-f4bb-4745-8afc-e8734512c2ba"
      },
      "execution_count": 12,
      "outputs": [
        {
          "output_type": "execute_result",
          "data": {
            "text/html": [
              "\n",
              "        <iframe\n",
              "            width=\"400\"\n",
              "            height=\"300\"\n",
              "            src=\"https://www.youtube.com/embed/kA8PUYwiFFo\"\n",
              "            frameborder=\"0\"\n",
              "            allowfullscreen\n",
              "        ></iframe>\n",
              "        "
            ],
            "text/plain": [
              "<IPython.lib.display.YouTubeVideo at 0x7f34135c33d0>"
            ],
            "image/jpeg": "[encoded data removed]"
          },
          "metadata": {},
          "execution_count": 12
        }
      ]
    },
    {
      "cell_type": "markdown",
      "metadata": {
        "id": "Xk867sTZZc3s"
      },
      "source": [
        "## Selecting subsets of data \n",
        "\n",
        "- To make life easier we can create dataframes that just have the values we are interested in \n",
        "\n",
        "- This is a bit more complicated but follows this type of pattern: \n",
        "\n",
        "``` \n",
        "\n",
        "dataframe[dataframe[search criteria]] \n",
        "\n",
        "``` \n",
        "\n",
        "- We are basically creating a subset of the dataframe by matching all entries that match `search criteria` \n",
        "\n",
        "- That search criteria can be anything that is a conditional \n",
        "\n",
        "- Doing this gives you a new dataframe \n",
        "\n",
        "Q16 Type in the corresponding code from the video"
      ]
    },
    {
      "cell_type": "code",
      "metadata": {
        "id": "gDg85_E2Zi9Y"
      },
      "source": [
        "df.groupby('').count()"
      ],
      "execution_count": null,
      "outputs": []
    },
    {
      "cell_type": "markdown",
      "metadata": {
        "id": "UvnaVK9ZZpaX"
      },
      "source": [
        "EG. A new dataframe of people with an Extroversion score over 6\n",
        "\n",
        "Q17 Type in the corresponding code from the video"
      ]
    },
    {
      "cell_type": "code",
      "metadata": {
        "id": "n-WpoPEjZ3Yo"
      },
      "source": [
        "over_6 = df[df[\"\"] == ] \n",
        "\n",
        "over_6.head(10)"
      ],
      "execution_count": null,
      "outputs": []
    },
    {
      "cell_type": "markdown",
      "metadata": {
        "id": "61ivMbprZ4b4"
      },
      "source": [
        "EG. If we want the count of participants with an extraversion score greater than 6, we apply the .count() function to what we selected \n",
        "\n",
        "Q18 type in the corresponding code from the video"
      ]
    },
    {
      "cell_type": "code",
      "metadata": {
        "id": "kTQzWLv9aF3o"
      },
      "source": [
        ""
      ],
      "execution_count": null,
      "outputs": []
    },
    {
      "cell_type": "markdown",
      "metadata": {
        "id": "G_G5p1xXaJLo"
      },
      "source": [
        "This can be done in 1 line as well \n",
        "\n",
        "Q19 Type in the corresponding code from the video"
      ]
    },
    {
      "cell_type": "code",
      "metadata": {
        "id": "8LOaf-lxaSan"
      },
      "source": [
        "df[df[\"\"] > ].count() "
      ],
      "execution_count": null,
      "outputs": []
    },
    {
      "cell_type": "markdown",
      "metadata": {
        "id": "7qP44lacaTAn"
      },
      "source": [
        "Can you 'describe' the newly created dataframe, to get some basic information on the columns in the dataframe?\n",
        "\n",
        "Q20 Type in the corresponding code from the video"
      ]
    },
    {
      "cell_type": "code",
      "metadata": {
        "id": "hgt4OBY6agr-"
      },
      "source": [
        ""
      ],
      "execution_count": null,
      "outputs": []
    },
    {
      "cell_type": "markdown",
      "metadata": {
        "id": "bi67g-sIamwe"
      },
      "source": [
        "How can we sort our new datafeame?\n",
        "\n",
        "Q21 Type in the corresponding code from the video"
      ]
    },
    {
      "cell_type": "code",
      "metadata": {
        "id": "_FFy79wKau42"
      },
      "source": [
        "over_6.sort_values(by=\"\")"
      ],
      "execution_count": null,
      "outputs": []
    },
    {
      "cell_type": "markdown",
      "source": [
        "#Data Visualization\n",
        "###We will now learn how to visualize our data into graphs "
      ],
      "metadata": {
        "id": "mNbiMewfcNyF"
      }
    },
    {
      "cell_type": "markdown",
      "metadata": {
        "id": "cNomc9qm7wg0"
      },
      "source": [
        "Watch the Video below for information and answer for the next section on Data Visualization"
      ]
    },
    {
      "cell_type": "code",
      "source": [
        "#@title\n",
        "from IPython.display import YouTubeVideo\n",
        "YouTubeVideo('EQHSUep7q18')"
      ],
      "metadata": {
        "id": "Q-1L5ZBDZQJn",
        "colab": {
          "base_uri": "https://localhost:8080/",
          "height": 321
        },
        "outputId": "e34de362-47ed-450f-da89-cb8475cb9ad4"
      },
      "execution_count": 14,
      "outputs": [
        {
          "output_type": "execute_result",
          "data": {
            "text/html": [
              "\n",
              "        <iframe\n",
              "            width=\"400\"\n",
              "            height=\"300\"\n",
              "            src=\"https://www.youtube.com/embed/EQHSUep7q18\"\n",
              "            frameborder=\"0\"\n",
              "            allowfullscreen\n",
              "        ></iframe>\n",
              "        "
            ],
            "text/plain": [
              "<IPython.lib.display.YouTubeVideo at 0x7f3413181450>"
            ],
            "image/jpeg": "[encoded data removed]"
          },
          "metadata": {},
          "execution_count": 14
        }
      ]
    },
    {
      "cell_type": "markdown",
      "metadata": {
        "id": "xX60ep_waz82"
      },
      "source": [
        "# Another Library, MatplotLib\n",
        "\n",
        "Let's take a look at graphing our results. We can use the `matplotlib` library to generate some graphs of our results. We always gives lists as parameters for the graphs\n",
        "\n",
        "Q22 Type in the corresponding code from th video"
      ]
    },
    {
      "cell_type": "code",
      "metadata": {
        "id": "XtJ3T6kaa7fe"
      },
      "source": [
        "#This line is for Jupyter's benefit\n",
        "%matplotlib inline\n",
        "#Import MayPlotLib to graph some results\n",
        "import matplotlib.pyplot as plt"
      ],
      "execution_count": null,
      "outputs": []
    },
    {
      "cell_type": "markdown",
      "metadata": {
        "id": "b5bZOz27bGdW"
      },
      "source": [
        "## Donut Charts\n",
        "Let's draw a donut chart of the number of people of each personality label.\n",
        "\n",
        "Q23 Type in the corresponding code from the video"
      ]
    },
    {
      "cell_type": "code",
      "metadata": {
        "id": "TmpoxCvobUsl"
      },
      "source": [
        "#All of the dependable people\n",
        "Total_dependable = df[df[''] == ''][''].count()\n",
        "print(\"Dependable People: \" + str(Total_dependable))\n",
        "\n",
        "#All of the serious people\n",
        "Total_serious = df[df[''] == \"\"][\"\"].count()\n",
        "print(\"Serious People: \"+ str(Total_serious))\n",
        "\n",
        "#All of the extraverted people\n",
        "Total_extraverts = df[df[\"\"] == \"\"][\"\"].count()\n",
        "print(\"Extraverts: \"+ str(Total_extraverts))\n",
        "\n",
        "#All of the lively people\n",
        "Total_lively = df[df[\"\"] == \"\"][\"\"].count()\n",
        "print(\"Lively People: \"+ str(Total_lively))\n",
        "\n",
        "#All of the responsible people\n",
        "Total_responsible = df[df[\"\"] == \"\"][\"\"].count()\n",
        "print(\"Responsible People: \"+ str(Total_responsible))\n",
        "\n",
        "# Matplot lib always wants data in a list, so we'll make one\n",
        "pie_data = [Total_dependable,Total_serious,Total_extraverts,Total_lively,Total_responsible]\n",
        "pie_labels = [\"Dependable People\", \"Serious People\", \"Extraverts\", \"Lively People\", \"Responsible People\"]\n",
        "plt.pie(pie_data,labels=pie_labels, colors = (\"red\", \"pink\", \"blue\", \"cyan\", \"purple\"))\n",
        "\n",
        "# Add a circle to create a hole in the pie chart\n",
        "centre_circle = plt.Circle((0, 0), 0.70, fc='')\n",
        "fig = plt.gcf()\n",
        "fig.gca().add_artist(centre_circle)\n",
        "\n",
        "plt.show()"
      ],
      "execution_count": null,
      "outputs": []
    },
    {
      "cell_type": "markdown",
      "metadata": {
        "id": "I5uyKVRmcEFr"
      },
      "source": [
        "###Histograms\n",
        "\n",
        "Say we wanted to plot the personality distribution of our data\n",
        "\n",
        "Q24 Type in the corresponding code from the video"
      ]
    },
    {
      "cell_type": "code",
      "metadata": {
        "id": "LrN1lmCpca76"
      },
      "source": [
        "# bins is the number of containers we'll split our x-axis values into\n",
        "bins = \n",
        "\n",
        "plt.hist(df[\"Personality\"],bins, color=('hotpink'), alpha=(0.9), hatch=\"**\", edgecolor='white')\n",
        "\n",
        "plt.title(\"Personality Distribution\", color=(0.2,0.6,0.4,0.6), size=30)\n",
        "plt.xlabel(\"\", size=20)\n",
        "plt.ylabel(\"\", size=20)\n",
        "\n",
        "#Set Background colour\n",
        "plt.gca().set_facecolor('')\n",
        "plt.gca().set_axis_on()\n",
        "\n",
        "#Change the color of the x and y values\n",
        "ax = plt.gca()\n",
        "ax.tick_params(axis='x', colors='brown')\n",
        "ax.tick_params(axis='y', colors='blue')\n",
        "\n",
        "plt.show()"
      ],
      "execution_count": null,
      "outputs": []
    },
    {
      "cell_type": "markdown",
      "metadata": {
        "id": "uSt1OkpzcyJq"
      },
      "source": [
        "##Another Library: Seaborn\n",
        "Seaborn can do the same charts as Matplotlib, along with correlational charts that visualize correlations between variables.\n",
        "\n",
        "Install Seaborn\n",
        "\n",
        "Q25 Type in the corresponding code from the video"
      ]
    },
    {
      "cell_type": "code",
      "metadata": {
        "id": "AuJXwDc_c6oW"
      },
      "source": [
        "pip install "
      ],
      "execution_count": null,
      "outputs": []
    },
    {
      "cell_type": "markdown",
      "metadata": {
        "id": "mb2o-TL6c-ff"
      },
      "source": [
        "Import Seaborn library, and ensure that numpy, matplotlib, and pandas are also imported\n",
        "\n",
        "Q26 Type in the corresponding code from the video"
      ]
    },
    {
      "cell_type": "code",
      "metadata": {
        "id": "guMTfdcbdKSr"
      },
      "source": [
        "#we already imported numpy, so we can skip importing it again\n",
        "#we already have imported matplotlib, so we can skip importing it again\n",
        "#we already have pandas imported, so we can skip that step as well!\n",
        "#Now all is left to import is Seaborn\n",
        "import as"
      ],
      "execution_count": null,
      "outputs": []
    },
    {
      "cell_type": "markdown",
      "metadata": {
        "id": "nvBTCZy6dQU7"
      },
      "source": [
        "###Create a violin plot to compare distribution between two variables\n",
        "\n",
        "Q27 Type in the corresponding code from the video"
      ]
    },
    {
      "cell_type": "code",
      "metadata": {
        "id": "8HT-fqSpdb-Y"
      },
      "source": [
        "#Create a violin chart\n",
        "sns.violinplot(\"\", \"\", data=df,\n",
        "               palette=[\"\", \"\"]);\n",
        "               \n",
        "#Create a title\n",
        "plt.title('')"
      ],
      "execution_count": null,
      "outputs": []
    }
  ]
}